{
 "cells": [
  {
   "cell_type": "markdown",
   "metadata": {},
   "source": [
    "## <center> École Polytechnique de Montréal <br> Département Génie Informatique et Génie Logiciel <br>  LOG6308 - Systèmes de recommandations <br> </center>\n",
    "\n",
    "## <center> TP1 -- Approches collaboratives : utilisateur-utilisateur, item-item, et agglomérative </center>"
   ]
  },
  {
   "cell_type": "markdown",
   "metadata": {},
   "source": [
    "Le travail doit être fait en **équipe de deux**. \n",
    "\n",
    "## Identification de l'équipe: 02_eq28\n",
    "\n",
    "### Groupe de laboratoire: 02\n",
    "\n",
    "### Equipe numéro : 28\n",
    "\n",
    "### Membres:\n",
    "\n",
    "François Tourigny (2079718)\n",
    "\n",
    "Gabriel Côté (2082508)\n",
    "\n",
    "<br>\n",
    "\n",
    "**Nature de la contribution:** Décrivez brièvement ce qui a été fait par chaque membre de l’équipe. Tous les membres sont censés contribuer au développement. Bien que chaque membre puisse effectuer différentes tâches, vous devez vous efforcer d’obtenir une répartition égale du travail. Soyez précis sur la contribution de chacun."
   ]
  },
  {
   "cell_type": "markdown",
   "metadata": {},
   "source": [
    "### Enoncé du TP\n",
    "\n",
    "Ce notebook se trouve sous l'énoncé général du TP au lien [cours.polymtl.ca/MDesmarais/log6308/20251/Tp/tp1.html](https://cours.polymtl.ca/MDesmarais/log6308/20251/Tp/tp1.html).  Les données sont accessibles de ce lien.<br>\n",
    "\n",
    "### Jeux de données\n",
    "\n",
    "Vous avez 3 fichiers à votre disposition:\n",
    "\n",
    "- 'Data/votes.csv': Matrice de données de 100 000 votes faits par 943 utilisateurs et portant sur 1682 items.\n",
    "    - **user.id**: Indentifiant de l'utilisateur\n",
    "    - **item.id**: Identifiant de l'item/film\n",
    "    - **rating**: vote attribué à l'item par l'utilisateur\n",
    "    - **timestamp**: Date d'enregistrement du vote (à ignorer pour ce TP) \n",
    "- 'Data/items.csv': Matrice de données sur les films\n",
    "    - **movie.id**: Identifiant du film\n",
    "    - **movie.title**: Nom du film\n",
    "    - **release.date**: Date de sortie\n",
    "    - **video.release.date**: Date de sortie de la video\n",
    "    - **IMDb.URL**: Lien vers le film\n",
    "    - les 19 autres champs sont les categories des films qui sont les suivantes:\n",
    "        \"unknown\", \"Action\", \"Adventure\", \"Animation\", \"Children's\", \"Comedy\", \"Crime\", \"Documentary\", \"Drama\", \"Fantasy\", \"Film-Noir\", \"Horror\", \"Musical\", \"Mystery\", \"Romance\", \"Sci-Fi\", \"Thriller\", \"War\", \"Western\"\n",
    "- 'Data/u.csv': Matrice de données sur les utilisateurs\n",
    "    - **id**: Identififiant de l'utilisateurs\n",
    "    - **age**: Age de l'utilisateur\n",
    "    - **gender**: Sexe de l'utilisateur\n",
    "    - **job**: Emploi de l'utilisateur\n",
    "    - **zip**: ZIP Code\n",
    "\n",
    "Attention aux espaces et à la casse des differents champs. \n",
    "\n",
    "### Librairies permises\n",
    "\n",
    "- numpy\n",
    "- pandas\n",
    "- seaborn\n",
    "- matplotlib\n",
    "- scipy\n",
    "\n",
    "\n",
    "### Rédaction et remise du rapport\n",
    "\n",
    "- Ce notebook constitue à la fois votre code et votre rapport. Il contient un squelette pour guider votre travail.\n",
    "\n",
    "- Complétez directement le notebook, vous êtes libres de créer des nouvelles cellules de code ou de texte.\n",
    "\n",
    "- <u>**IMPORTANT**</u> Remettez le ZIP contenant les données et le notebook sur Moodle avec le nom `MATRICULE1_MATRICULE2.ipynb` pour le notebook et `MATRICULE1_MATRICULE2.zip` pour le zip.\n",
    "\n",
    "\n",
    "### CRITÈRES\n",
    "\n",
    "- La démarche est valide et bien expliquée\n",
    "- Les réponses sont correctes et commentées\n",
    "- L'implémentation est performante et repose sur le calcul linéaire lorsqu'approprié\n",
    "- La présentation est soignée et bien rédigée\n",
    "\n",
    "\n",
    "### CODE D’HONNEUR\n",
    "\n",
    "- __Règle 1__:  Le plagiat de code est bien évidemment interdit. Toute utilisation de code doit être référencée adéquatement. Vous __ne pouvez pas__ soumettre un code écrit par quelqu’un d’autre.\n",
    "\n",
    "- __Règle 2__: Vous êtes libres de discuter des idées et des détails de mise en œuvre avec d'autres équipes. Cependant, vous ne pouvez en aucun cas consulter le code d'une autre équipe ou incorporer leur code dans votre TP.\n",
    "\n",
    "- __Règle 3__:  Vous ne pouvez pas partager votre code publiquement (par exemple, dans un dépôt GitHub public) tant que le cours n'est pas fini."
   ]
  },
  {
   "cell_type": "markdown",
   "metadata": {},
   "source": [
    "## Question 1"
   ]
  },
  {
   "cell_type": "markdown",
   "metadata": {},
   "source": [
    "### 1. Chargement des assets\n",
    "\n",
    "#### 1.1. Chargement des librairies"
   ]
  },
  {
   "cell_type": "code",
   "execution_count": 66,
   "metadata": {},
   "outputs": [],
   "source": [
    "import numpy as np\n",
    "import pandas as pd\n",
    "import seaborn as sns\n",
    "import pandas as pd\n",
    "import matplotlib.pyplot as plt\n",
    "import scipy as sp"
   ]
  },
  {
   "cell_type": "markdown",
   "metadata": {},
   "source": [
    "#### 1.2. Chargement des données\n",
    "\n",
    "Affichez tous les jeux de données"
   ]
  },
  {
   "cell_type": "code",
   "execution_count": 67,
   "metadata": {},
   "outputs": [],
   "source": [
    "# TODO  --------------------------------- Préparation des Données ------------------------\n",
    "## Chargement des votes\n",
    "votes = pd.read_csv(\"data/ratings.csv\")\n",
    "# items \n",
    "items = pd.read_csv(\"data/items.csv\")\n",
    "# users\n",
    "user = pd.read_csv(\"data/user.csv\")\n",
    "# End TODO"
   ]
  },
  {
   "cell_type": "code",
   "execution_count": 68,
   "metadata": {},
   "outputs": [
    {
     "data": {
      "text/html": [
       "<div>\n",
       "<style scoped>\n",
       "    .dataframe tbody tr th:only-of-type {\n",
       "        vertical-align: middle;\n",
       "    }\n",
       "\n",
       "    .dataframe tbody tr th {\n",
       "        vertical-align: top;\n",
       "    }\n",
       "\n",
       "    .dataframe thead th {\n",
       "        text-align: right;\n",
       "    }\n",
       "</style>\n",
       "<table border=\"1\" class=\"dataframe\">\n",
       "  <thead>\n",
       "    <tr style=\"text-align: right;\">\n",
       "      <th></th>\n",
       "      <th>user.id</th>\n",
       "      <th>item.id</th>\n",
       "      <th>rating</th>\n",
       "      <th>timestamp</th>\n",
       "    </tr>\n",
       "  </thead>\n",
       "  <tbody>\n",
       "    <tr>\n",
       "      <th>0</th>\n",
       "      <td>196</td>\n",
       "      <td>242</td>\n",
       "      <td>3</td>\n",
       "      <td>881250949</td>\n",
       "    </tr>\n",
       "    <tr>\n",
       "      <th>1</th>\n",
       "      <td>186</td>\n",
       "      <td>302</td>\n",
       "      <td>3</td>\n",
       "      <td>891717742</td>\n",
       "    </tr>\n",
       "    <tr>\n",
       "      <th>2</th>\n",
       "      <td>22</td>\n",
       "      <td>377</td>\n",
       "      <td>1</td>\n",
       "      <td>878887116</td>\n",
       "    </tr>\n",
       "    <tr>\n",
       "      <th>3</th>\n",
       "      <td>244</td>\n",
       "      <td>51</td>\n",
       "      <td>2</td>\n",
       "      <td>880606923</td>\n",
       "    </tr>\n",
       "    <tr>\n",
       "      <th>4</th>\n",
       "      <td>166</td>\n",
       "      <td>346</td>\n",
       "      <td>1</td>\n",
       "      <td>886397596</td>\n",
       "    </tr>\n",
       "  </tbody>\n",
       "</table>\n",
       "</div>"
      ],
      "text/plain": [
       "   user.id  item.id  rating  timestamp\n",
       "0      196      242       3  881250949\n",
       "1      186      302       3  891717742\n",
       "2       22      377       1  878887116\n",
       "3      244       51       2  880606923\n",
       "4      166      346       1  886397596"
      ]
     },
     "execution_count": 68,
     "metadata": {},
     "output_type": "execute_result"
    }
   ],
   "source": [
    "### TODO: Afficher les jeux de donnes\n",
    "votes.head()\n",
    "##End TODO"
   ]
  },
  {
   "cell_type": "code",
   "execution_count": 69,
   "metadata": {},
   "outputs": [
    {
     "data": {
      "text/html": [
       "<div>\n",
       "<style scoped>\n",
       "    .dataframe tbody tr th:only-of-type {\n",
       "        vertical-align: middle;\n",
       "    }\n",
       "\n",
       "    .dataframe tbody tr th {\n",
       "        vertical-align: top;\n",
       "    }\n",
       "\n",
       "    .dataframe thead th {\n",
       "        text-align: right;\n",
       "    }\n",
       "</style>\n",
       "<table border=\"1\" class=\"dataframe\">\n",
       "  <thead>\n",
       "    <tr style=\"text-align: right;\">\n",
       "      <th></th>\n",
       "      <th>movie.id</th>\n",
       "      <th>movie.title</th>\n",
       "      <th>release.date</th>\n",
       "      <th>video.release.date</th>\n",
       "      <th>IMDb.URL</th>\n",
       "      <th>unknown</th>\n",
       "      <th>Action</th>\n",
       "      <th>Adventure</th>\n",
       "      <th>Animation</th>\n",
       "      <th>Children's</th>\n",
       "      <th>...</th>\n",
       "      <th>Fantasy</th>\n",
       "      <th>Film-Noir</th>\n",
       "      <th>Horror</th>\n",
       "      <th>Musical</th>\n",
       "      <th>Mystery</th>\n",
       "      <th>Romance</th>\n",
       "      <th>Sci-Fi</th>\n",
       "      <th>Thriller</th>\n",
       "      <th>War</th>\n",
       "      <th>Western</th>\n",
       "    </tr>\n",
       "  </thead>\n",
       "  <tbody>\n",
       "    <tr>\n",
       "      <th>0</th>\n",
       "      <td>1</td>\n",
       "      <td>Toy Story (1995)</td>\n",
       "      <td>01-Jan-1995</td>\n",
       "      <td>NaN</td>\n",
       "      <td>http://us.imdb.com/M/title-exact?Toy%20Story%2...</td>\n",
       "      <td>0</td>\n",
       "      <td>0</td>\n",
       "      <td>0</td>\n",
       "      <td>1</td>\n",
       "      <td>1</td>\n",
       "      <td>...</td>\n",
       "      <td>0</td>\n",
       "      <td>0</td>\n",
       "      <td>0</td>\n",
       "      <td>0</td>\n",
       "      <td>0</td>\n",
       "      <td>0</td>\n",
       "      <td>0</td>\n",
       "      <td>0</td>\n",
       "      <td>0</td>\n",
       "      <td>0</td>\n",
       "    </tr>\n",
       "    <tr>\n",
       "      <th>1</th>\n",
       "      <td>2</td>\n",
       "      <td>GoldenEye (1995)</td>\n",
       "      <td>01-Jan-1995</td>\n",
       "      <td>NaN</td>\n",
       "      <td>http://us.imdb.com/M/title-exact?GoldenEye%20(...</td>\n",
       "      <td>0</td>\n",
       "      <td>1</td>\n",
       "      <td>1</td>\n",
       "      <td>0</td>\n",
       "      <td>0</td>\n",
       "      <td>...</td>\n",
       "      <td>0</td>\n",
       "      <td>0</td>\n",
       "      <td>0</td>\n",
       "      <td>0</td>\n",
       "      <td>0</td>\n",
       "      <td>0</td>\n",
       "      <td>0</td>\n",
       "      <td>1</td>\n",
       "      <td>0</td>\n",
       "      <td>0</td>\n",
       "    </tr>\n",
       "    <tr>\n",
       "      <th>2</th>\n",
       "      <td>3</td>\n",
       "      <td>Four Rooms (1995)</td>\n",
       "      <td>01-Jan-1995</td>\n",
       "      <td>NaN</td>\n",
       "      <td>http://us.imdb.com/M/title-exact?Four%20Rooms%...</td>\n",
       "      <td>0</td>\n",
       "      <td>0</td>\n",
       "      <td>0</td>\n",
       "      <td>0</td>\n",
       "      <td>0</td>\n",
       "      <td>...</td>\n",
       "      <td>0</td>\n",
       "      <td>0</td>\n",
       "      <td>0</td>\n",
       "      <td>0</td>\n",
       "      <td>0</td>\n",
       "      <td>0</td>\n",
       "      <td>0</td>\n",
       "      <td>1</td>\n",
       "      <td>0</td>\n",
       "      <td>0</td>\n",
       "    </tr>\n",
       "    <tr>\n",
       "      <th>3</th>\n",
       "      <td>4</td>\n",
       "      <td>Get Shorty (1995)</td>\n",
       "      <td>01-Jan-1995</td>\n",
       "      <td>NaN</td>\n",
       "      <td>http://us.imdb.com/M/title-exact?Get%20Shorty%...</td>\n",
       "      <td>0</td>\n",
       "      <td>1</td>\n",
       "      <td>0</td>\n",
       "      <td>0</td>\n",
       "      <td>0</td>\n",
       "      <td>...</td>\n",
       "      <td>0</td>\n",
       "      <td>0</td>\n",
       "      <td>0</td>\n",
       "      <td>0</td>\n",
       "      <td>0</td>\n",
       "      <td>0</td>\n",
       "      <td>0</td>\n",
       "      <td>0</td>\n",
       "      <td>0</td>\n",
       "      <td>0</td>\n",
       "    </tr>\n",
       "    <tr>\n",
       "      <th>4</th>\n",
       "      <td>5</td>\n",
       "      <td>Copycat (1995)</td>\n",
       "      <td>01-Jan-1995</td>\n",
       "      <td>NaN</td>\n",
       "      <td>http://us.imdb.com/M/title-exact?Copycat%20(1995)</td>\n",
       "      <td>0</td>\n",
       "      <td>0</td>\n",
       "      <td>0</td>\n",
       "      <td>0</td>\n",
       "      <td>0</td>\n",
       "      <td>...</td>\n",
       "      <td>0</td>\n",
       "      <td>0</td>\n",
       "      <td>0</td>\n",
       "      <td>0</td>\n",
       "      <td>0</td>\n",
       "      <td>0</td>\n",
       "      <td>0</td>\n",
       "      <td>1</td>\n",
       "      <td>0</td>\n",
       "      <td>0</td>\n",
       "    </tr>\n",
       "  </tbody>\n",
       "</table>\n",
       "<p>5 rows × 24 columns</p>\n",
       "</div>"
      ],
      "text/plain": [
       "   movie.id        movie.title release.date  video.release.date  \\\n",
       "0         1   Toy Story (1995)  01-Jan-1995                 NaN   \n",
       "1         2   GoldenEye (1995)  01-Jan-1995                 NaN   \n",
       "2         3  Four Rooms (1995)  01-Jan-1995                 NaN   \n",
       "3         4  Get Shorty (1995)  01-Jan-1995                 NaN   \n",
       "4         5     Copycat (1995)  01-Jan-1995                 NaN   \n",
       "\n",
       "                                            IMDb.URL  unknown  Action  \\\n",
       "0  http://us.imdb.com/M/title-exact?Toy%20Story%2...        0       0   \n",
       "1  http://us.imdb.com/M/title-exact?GoldenEye%20(...        0       1   \n",
       "2  http://us.imdb.com/M/title-exact?Four%20Rooms%...        0       0   \n",
       "3  http://us.imdb.com/M/title-exact?Get%20Shorty%...        0       1   \n",
       "4  http://us.imdb.com/M/title-exact?Copycat%20(1995)        0       0   \n",
       "\n",
       "   Adventure  Animation  Children's  ...  Fantasy  Film-Noir  Horror  Musical  \\\n",
       "0          0          1           1  ...        0          0       0        0   \n",
       "1          1          0           0  ...        0          0       0        0   \n",
       "2          0          0           0  ...        0          0       0        0   \n",
       "3          0          0           0  ...        0          0       0        0   \n",
       "4          0          0           0  ...        0          0       0        0   \n",
       "\n",
       "   Mystery  Romance  Sci-Fi  Thriller  War  Western  \n",
       "0        0        0       0         0    0        0  \n",
       "1        0        0       0         1    0        0  \n",
       "2        0        0       0         1    0        0  \n",
       "3        0        0       0         0    0        0  \n",
       "4        0        0       0         1    0        0  \n",
       "\n",
       "[5 rows x 24 columns]"
      ]
     },
     "execution_count": 69,
     "metadata": {},
     "output_type": "execute_result"
    }
   ],
   "source": [
    "items.head()"
   ]
  },
  {
   "cell_type": "code",
   "execution_count": 70,
   "metadata": {},
   "outputs": [
    {
     "data": {
      "text/html": [
       "<div>\n",
       "<style scoped>\n",
       "    .dataframe tbody tr th:only-of-type {\n",
       "        vertical-align: middle;\n",
       "    }\n",
       "\n",
       "    .dataframe tbody tr th {\n",
       "        vertical-align: top;\n",
       "    }\n",
       "\n",
       "    .dataframe thead th {\n",
       "        text-align: right;\n",
       "    }\n",
       "</style>\n",
       "<table border=\"1\" class=\"dataframe\">\n",
       "  <thead>\n",
       "    <tr style=\"text-align: right;\">\n",
       "      <th></th>\n",
       "      <th>id</th>\n",
       "      <th>age</th>\n",
       "      <th>gender</th>\n",
       "      <th>job</th>\n",
       "      <th>zip</th>\n",
       "    </tr>\n",
       "  </thead>\n",
       "  <tbody>\n",
       "    <tr>\n",
       "      <th>0</th>\n",
       "      <td>1</td>\n",
       "      <td>24</td>\n",
       "      <td>M</td>\n",
       "      <td>technician</td>\n",
       "      <td>85711</td>\n",
       "    </tr>\n",
       "    <tr>\n",
       "      <th>1</th>\n",
       "      <td>2</td>\n",
       "      <td>53</td>\n",
       "      <td>F</td>\n",
       "      <td>other</td>\n",
       "      <td>94043</td>\n",
       "    </tr>\n",
       "    <tr>\n",
       "      <th>2</th>\n",
       "      <td>3</td>\n",
       "      <td>23</td>\n",
       "      <td>M</td>\n",
       "      <td>writer</td>\n",
       "      <td>32067</td>\n",
       "    </tr>\n",
       "    <tr>\n",
       "      <th>3</th>\n",
       "      <td>4</td>\n",
       "      <td>24</td>\n",
       "      <td>M</td>\n",
       "      <td>technician</td>\n",
       "      <td>43537</td>\n",
       "    </tr>\n",
       "    <tr>\n",
       "      <th>4</th>\n",
       "      <td>5</td>\n",
       "      <td>33</td>\n",
       "      <td>F</td>\n",
       "      <td>other</td>\n",
       "      <td>15213</td>\n",
       "    </tr>\n",
       "  </tbody>\n",
       "</table>\n",
       "</div>"
      ],
      "text/plain": [
       "   id  age gender         job    zip\n",
       "0   1   24      M  technician  85711\n",
       "1   2   53      F       other  94043\n",
       "2   3   23      M      writer  32067\n",
       "3   4   24      M  technician  43537\n",
       "4   5   33      F       other  15213"
      ]
     },
     "execution_count": 70,
     "metadata": {},
     "output_type": "execute_result"
    }
   ],
   "source": [
    "user.head()"
   ]
  },
  {
   "cell_type": "markdown",
   "metadata": {},
   "source": [
    "### 1.3. Calcul de performances\n",
    "\n",
    "On désire calculer les performances prédictives de quelques approches qui donnent une base de référence: le vote aléatoire, le vote moyen, le vote moyen utilisateur, le vote moyen item et finalement, le vote attendu (moyenne du vote moyen utilisateur et item). Puis rapporter l'erreur quadratique moyenne et l'erreur absolue moyenne (1) sans validation croisée et (2) avec validation croisée de 5 replis. Et enfin, déterminer si la différence entre l'erreur quadratique moyenne obtenue par le vote moyen item et le vote moyen utilisateur est statistiquement significative par un test d'hypothèse et en affichant les résultats visuellement. Pour cela, on procède en plusieurs étapes.\n",
    "\n",
    "\n",
    "#### 1.3.1. Prétrairements\n",
    "L’objectif ici est de créer une matrice utilisateurs-items qui, à chaque utilisateur, associe les votes qu’il a attribués aux films."
   ]
  },
  {
   "cell_type": "code",
   "execution_count": 71,
   "metadata": {},
   "outputs": [
    {
     "data": {
      "text/html": [
       "<div>\n",
       "<style scoped>\n",
       "    .dataframe tbody tr th:only-of-type {\n",
       "        vertical-align: middle;\n",
       "    }\n",
       "\n",
       "    .dataframe tbody tr th {\n",
       "        vertical-align: top;\n",
       "    }\n",
       "\n",
       "    .dataframe thead th {\n",
       "        text-align: right;\n",
       "    }\n",
       "</style>\n",
       "<table border=\"1\" class=\"dataframe\">\n",
       "  <thead>\n",
       "    <tr style=\"text-align: right;\">\n",
       "      <th>item.id</th>\n",
       "      <th>1</th>\n",
       "      <th>2</th>\n",
       "      <th>3</th>\n",
       "      <th>4</th>\n",
       "      <th>5</th>\n",
       "      <th>6</th>\n",
       "      <th>7</th>\n",
       "      <th>8</th>\n",
       "      <th>9</th>\n",
       "      <th>10</th>\n",
       "      <th>...</th>\n",
       "      <th>1673</th>\n",
       "      <th>1674</th>\n",
       "      <th>1675</th>\n",
       "      <th>1676</th>\n",
       "      <th>1677</th>\n",
       "      <th>1678</th>\n",
       "      <th>1679</th>\n",
       "      <th>1680</th>\n",
       "      <th>1681</th>\n",
       "      <th>1682</th>\n",
       "    </tr>\n",
       "    <tr>\n",
       "      <th>user.id</th>\n",
       "      <th></th>\n",
       "      <th></th>\n",
       "      <th></th>\n",
       "      <th></th>\n",
       "      <th></th>\n",
       "      <th></th>\n",
       "      <th></th>\n",
       "      <th></th>\n",
       "      <th></th>\n",
       "      <th></th>\n",
       "      <th></th>\n",
       "      <th></th>\n",
       "      <th></th>\n",
       "      <th></th>\n",
       "      <th></th>\n",
       "      <th></th>\n",
       "      <th></th>\n",
       "      <th></th>\n",
       "      <th></th>\n",
       "      <th></th>\n",
       "      <th></th>\n",
       "    </tr>\n",
       "  </thead>\n",
       "  <tbody>\n",
       "    <tr>\n",
       "      <th>1</th>\n",
       "      <td>5.0</td>\n",
       "      <td>3.0</td>\n",
       "      <td>4.0</td>\n",
       "      <td>3.0</td>\n",
       "      <td>3.0</td>\n",
       "      <td>5.0</td>\n",
       "      <td>4.0</td>\n",
       "      <td>1.0</td>\n",
       "      <td>5.0</td>\n",
       "      <td>3.0</td>\n",
       "      <td>...</td>\n",
       "      <td>NaN</td>\n",
       "      <td>NaN</td>\n",
       "      <td>NaN</td>\n",
       "      <td>NaN</td>\n",
       "      <td>NaN</td>\n",
       "      <td>NaN</td>\n",
       "      <td>NaN</td>\n",
       "      <td>NaN</td>\n",
       "      <td>NaN</td>\n",
       "      <td>NaN</td>\n",
       "    </tr>\n",
       "    <tr>\n",
       "      <th>2</th>\n",
       "      <td>4.0</td>\n",
       "      <td>NaN</td>\n",
       "      <td>NaN</td>\n",
       "      <td>NaN</td>\n",
       "      <td>NaN</td>\n",
       "      <td>NaN</td>\n",
       "      <td>NaN</td>\n",
       "      <td>NaN</td>\n",
       "      <td>NaN</td>\n",
       "      <td>2.0</td>\n",
       "      <td>...</td>\n",
       "      <td>NaN</td>\n",
       "      <td>NaN</td>\n",
       "      <td>NaN</td>\n",
       "      <td>NaN</td>\n",
       "      <td>NaN</td>\n",
       "      <td>NaN</td>\n",
       "      <td>NaN</td>\n",
       "      <td>NaN</td>\n",
       "      <td>NaN</td>\n",
       "      <td>NaN</td>\n",
       "    </tr>\n",
       "    <tr>\n",
       "      <th>3</th>\n",
       "      <td>NaN</td>\n",
       "      <td>NaN</td>\n",
       "      <td>NaN</td>\n",
       "      <td>NaN</td>\n",
       "      <td>NaN</td>\n",
       "      <td>NaN</td>\n",
       "      <td>NaN</td>\n",
       "      <td>NaN</td>\n",
       "      <td>NaN</td>\n",
       "      <td>NaN</td>\n",
       "      <td>...</td>\n",
       "      <td>NaN</td>\n",
       "      <td>NaN</td>\n",
       "      <td>NaN</td>\n",
       "      <td>NaN</td>\n",
       "      <td>NaN</td>\n",
       "      <td>NaN</td>\n",
       "      <td>NaN</td>\n",
       "      <td>NaN</td>\n",
       "      <td>NaN</td>\n",
       "      <td>NaN</td>\n",
       "    </tr>\n",
       "    <tr>\n",
       "      <th>4</th>\n",
       "      <td>NaN</td>\n",
       "      <td>NaN</td>\n",
       "      <td>NaN</td>\n",
       "      <td>NaN</td>\n",
       "      <td>NaN</td>\n",
       "      <td>NaN</td>\n",
       "      <td>NaN</td>\n",
       "      <td>NaN</td>\n",
       "      <td>NaN</td>\n",
       "      <td>NaN</td>\n",
       "      <td>...</td>\n",
       "      <td>NaN</td>\n",
       "      <td>NaN</td>\n",
       "      <td>NaN</td>\n",
       "      <td>NaN</td>\n",
       "      <td>NaN</td>\n",
       "      <td>NaN</td>\n",
       "      <td>NaN</td>\n",
       "      <td>NaN</td>\n",
       "      <td>NaN</td>\n",
       "      <td>NaN</td>\n",
       "    </tr>\n",
       "    <tr>\n",
       "      <th>5</th>\n",
       "      <td>4.0</td>\n",
       "      <td>3.0</td>\n",
       "      <td>NaN</td>\n",
       "      <td>NaN</td>\n",
       "      <td>NaN</td>\n",
       "      <td>NaN</td>\n",
       "      <td>NaN</td>\n",
       "      <td>NaN</td>\n",
       "      <td>NaN</td>\n",
       "      <td>NaN</td>\n",
       "      <td>...</td>\n",
       "      <td>NaN</td>\n",
       "      <td>NaN</td>\n",
       "      <td>NaN</td>\n",
       "      <td>NaN</td>\n",
       "      <td>NaN</td>\n",
       "      <td>NaN</td>\n",
       "      <td>NaN</td>\n",
       "      <td>NaN</td>\n",
       "      <td>NaN</td>\n",
       "      <td>NaN</td>\n",
       "    </tr>\n",
       "  </tbody>\n",
       "</table>\n",
       "<p>5 rows × 1682 columns</p>\n",
       "</div>"
      ],
      "text/plain": [
       "item.id  1     2     3     4     5     6     7     8     9     10    ...  \\\n",
       "user.id                                                              ...   \n",
       "1         5.0   3.0   4.0   3.0   3.0   5.0   4.0   1.0   5.0   3.0  ...   \n",
       "2         4.0   NaN   NaN   NaN   NaN   NaN   NaN   NaN   NaN   2.0  ...   \n",
       "3         NaN   NaN   NaN   NaN   NaN   NaN   NaN   NaN   NaN   NaN  ...   \n",
       "4         NaN   NaN   NaN   NaN   NaN   NaN   NaN   NaN   NaN   NaN  ...   \n",
       "5         4.0   3.0   NaN   NaN   NaN   NaN   NaN   NaN   NaN   NaN  ...   \n",
       "\n",
       "item.id  1673  1674  1675  1676  1677  1678  1679  1680  1681  1682  \n",
       "user.id                                                              \n",
       "1         NaN   NaN   NaN   NaN   NaN   NaN   NaN   NaN   NaN   NaN  \n",
       "2         NaN   NaN   NaN   NaN   NaN   NaN   NaN   NaN   NaN   NaN  \n",
       "3         NaN   NaN   NaN   NaN   NaN   NaN   NaN   NaN   NaN   NaN  \n",
       "4         NaN   NaN   NaN   NaN   NaN   NaN   NaN   NaN   NaN   NaN  \n",
       "5         NaN   NaN   NaN   NaN   NaN   NaN   NaN   NaN   NaN   NaN  \n",
       "\n",
       "[5 rows x 1682 columns]"
      ]
     },
     "execution_count": 71,
     "metadata": {},
     "output_type": "execute_result"
    }
   ],
   "source": [
    "## Conversion du Pandas Datafram en Matrice Utilisateur Item : MUI\n",
    "MUI = votes.pivot(index=\"user.id\", columns=\"item.id\", values=\"rating\")\n",
    "MUI.head()"
   ]
  },
  {
   "cell_type": "code",
   "execution_count": 72,
   "metadata": {},
   "outputs": [],
   "source": [
    "## Convertir le DF à une matrice numpy\n",
    "MUI_numpy = MUI.to_numpy()\n",
    "MUI_numpy_flat = MUI_numpy.reshape(-1)\n"
   ]
  },
  {
   "cell_type": "markdown",
   "metadata": {},
   "source": [
    "### 1.3.2. Fonctions de calcul d'erreurs\n",
    "\n",
    "Afin de calculer l'erreur quadratique moyenne et l'erreur absolue moyenne vous devez utiliser les fonctions ci-dessous. Completez leurs codes."
   ]
  },
  {
   "cell_type": "code",
   "execution_count": 73,
   "metadata": {},
   "outputs": [],
   "source": [
    "def RMSE_mat(y_pred, y_true):\n",
    "    return np.sqrt(np.nanmean((y_pred - y_true) ** 2))"
   ]
  },
  {
   "cell_type": "code",
   "execution_count": 74,
   "metadata": {},
   "outputs": [],
   "source": [
    "def MAE_mat(y_pred, y_true):\n",
    "    return np.nanmean(np.abs(y_pred - y_true))"
   ]
  },
  {
   "cell_type": "markdown",
   "metadata": {},
   "source": [
    "#### 1.3.3. Calcul des performances sans validation croisée\n",
    "\n",
    "La validation croisée est une technique qui permet d'évaluer les performances d'un modèle/système sur de nouvelles données. Elle permet d'évaluer la capacité d'un modèle à généraliser la comprehension d’un problème. C’est-à-dire, à faire de bonnes prédictions sur des données qu’il n’a pas encore vues. Dans cet exercice, elle nous permet de savoir si l'approche employée permet de prédire correctement les votes attendues. Mais avant d'y arriver, dans cet exercice, afin de bien comprendre l'intérêt de cette technique, il est intéressant de commencer par une approche sans validation croisée (on utilise toutes les données).\n",
    "\n",
    "Le code ci-dessous permet de calculer les prédictions de votes sans validation croisée. Complétez-le et commentez les résultats."
   ]
  },
  {
   "cell_type": "code",
   "execution_count": 75,
   "metadata": {},
   "outputs": [
    {
     "name": "stdout",
     "output_type": "stream",
     "text": [
      "Résultats pour le vote aléatoire sur l'ensemble de test :\n",
      "RMSE:  1.244138255982831\n",
      "MAE:  1.00166 \n",
      "\n",
      "Résultats pour le vote moyen sur l'ensemble de test :\n",
      "RMSE:  1.1256679707622492\n",
      "MAE:  0.9447000499999999 \n",
      "\n",
      "Résultats pour le vote moyen utilisateur sur l'ensemble de test :\n",
      "RMSE:  1.0308117943828063\n",
      "MAE:  0.8262264099536629 \n",
      "\n",
      "Résultats pour le vote moyen item sur l'ensemble de test :\n",
      "RMSE:  1.0000700195275787\n",
      "MAE:  0.7989582428029238 \n",
      "\n",
      "Résultats pour le vote moyen attendu sur l'ensemble de test :\n",
      "RMSE:  0.9668089878000198\n",
      "MAE:  0.7825830601768504 \n",
      "\n"
     ]
    }
   ],
   "source": [
    "# TODO\n",
    "## Vote aleatoire\n",
    "def vote_aleatoire():\n",
    "    return np.random.randint(6)\n",
    "\n",
    "## Vote moyen\n",
    "def vote_moyen(df):\n",
    "    return np.nanmean(df)\n",
    "\n",
    "## Vote moyen utilisateur\n",
    "def vote_moyen_utilisateurs(df):\n",
    "    return np.nanmean(df, axis=1)\n",
    "\n",
    "## Vote moyen item\n",
    "def vote_moyen_items(df):\n",
    "    return np.nanmean(df, axis=0)\n",
    "\n",
    "## Vote Moyen Attendu (Moyenne du vote moyen utilisateur et item)\n",
    "def vote_moyen_attendu(df):\n",
    "    return (vote_moyen_utilisateurs(df) + vote_moyen_items(df))/2\n",
    "\n",
    "\n",
    "vote_aleatoire_pred = np.full(MUI_numpy.shape, vote_aleatoire())\n",
    "\n",
    "votes_moyenne_pred   = np.full(MUI_numpy.shape, vote_moyen(MUI_numpy))\n",
    "\n",
    "# Vote Moyen Utilisateur\n",
    "# Prédiction des votes grâce à la moyenne des votes par utilisateur de la matrice d'entrainement\n",
    "votes_moyenne_U_pred = np.tile(vote_moyen_utilisateurs(MUI_numpy)[:, np.newaxis], (1, MUI_numpy.shape[1]))\n",
    "\n",
    "# Vote Moyen Utilisateur\n",
    "# Prédiction des votes grâce à la moyenne des votes par item de la matrice d'entrainement\n",
    "votes_moyenne_I_pred = np.tile(vote_moyen_items(MUI_numpy), (MUI_numpy.shape[0], 1))\n",
    "\n",
    "# Vote Moyen Attendu (Moyenne du vote moyen utilisateur et item)\n",
    "moyenne_U_repeat = np.tile(vote_moyen_utilisateurs(MUI_numpy)[:, np.newaxis], (1, MUI_numpy.shape[1]))\n",
    "moyenne_I_repeat = np.tile(vote_moyen_items(MUI_numpy), (MUI_numpy.shape[0], 1))\n",
    "\n",
    "votes_moyenne_A_pred = (moyenne_U_repeat + moyenne_I_repeat)/2\n",
    "\n",
    "list_matrices_no_vote = [vote_aleatoire_pred, votes_moyenne_pred, votes_moyenne_U_pred, votes_moyenne_I_pred, votes_moyenne_A_pred]\n",
    "list_RMSE_no_vote = []\n",
    "list_MAE_no_vote = []\n",
    "\n",
    "list_RMSE_no_vote.append(np.array([RMSE_mat(mat, MUI_numpy) for mat in list_matrices_no_vote]))\n",
    "list_MAE_no_vote.append(np.array([MAE_mat(mat, MUI_numpy) for mat in list_matrices_no_vote]))\n",
    "\n",
    "list_RMSE_no_vote = np.array(list_RMSE_no_vote)\n",
    "list_MAE_no_vote = np.array(list_MAE_no_vote)\n",
    "\n",
    "print(\"Résultats pour le vote aléatoire sur l'ensemble de test :\")\n",
    "print(\"RMSE: \", RMSE_mat(vote_aleatoire_pred, MUI_numpy))\n",
    "print(\"MAE: \", MAE_mat(vote_aleatoire_pred, MUI_numpy),'\\n')\n",
    "\n",
    "print(\"Résultats pour le vote moyen sur l'ensemble de test :\")\n",
    "print(\"RMSE: \", RMSE_mat(votes_moyenne_pred, MUI_numpy))\n",
    "print(\"MAE: \", MAE_mat(votes_moyenne_pred, MUI_numpy),'\\n')\n",
    "\n",
    "print(\"Résultats pour le vote moyen utilisateur sur l'ensemble de test :\")\n",
    "print(\"RMSE: \", RMSE_mat(votes_moyenne_U_pred, MUI_numpy))\n",
    "print(\"MAE: \", MAE_mat(votes_moyenne_U_pred, MUI_numpy),'\\n')\n",
    "\n",
    "print(\"Résultats pour le vote moyen item sur l'ensemble de test :\")\n",
    "print(\"RMSE: \", RMSE_mat(votes_moyenne_I_pred, MUI_numpy))\n",
    "print(\"MAE: \", MAE_mat(votes_moyenne_I_pred, MUI_numpy),'\\n')\n",
    "\n",
    "print(\"Résultats pour le vote moyen attendu sur l'ensemble de test :\")\n",
    "print(\"RMSE: \", RMSE_mat(votes_moyenne_A_pred, MUI_numpy))\n",
    "print(\"MAE: \", MAE_mat(votes_moyenne_A_pred, MUI_numpy),'\\n')\n"
   ]
  },
  {
   "cell_type": "markdown",
   "metadata": {},
   "source": [
    "#### 1.3.4. Calcul des performances avec validation croisée\n",
    "\n",
    "Les cellules ci-dessous contiennent le code pour faire la prediction de votes et le calcul des erreurs quadratiques moyennes et erreurs absolue moyenne. Completez le et commentez les resultats."
   ]
  },
  {
   "cell_type": "code",
   "execution_count": 76,
   "metadata": {},
   "outputs": [
    {
     "name": "stdout",
     "output_type": "stream",
     "text": [
      "(100000,)\n"
     ]
    }
   ],
   "source": [
    "## Création des indices pour les valeurs différentes de np.nan\n",
    "indices = np.arange(0, MUI_numpy.shape[0]*MUI_numpy.shape[1])\n",
    "indices_na = indices[~np.isnan(MUI_numpy_flat)]\n",
    "\n",
    "## Split Train Test des indices\n",
    "nbre_replis = 5\n",
    "np.random.shuffle(indices_na)\n",
    "\n",
    "idx_split = np.split(indices_na, nbre_replis)\n",
    "\n",
    "print(indices_na.shape)"
   ]
  },
  {
   "cell_type": "code",
   "execution_count": 77,
   "metadata": {},
   "outputs": [
    {
     "name": "stderr",
     "output_type": "stream",
     "text": [
      "/tmp/ipykernel_70898/3724767970.py:16: RuntimeWarning: Mean of empty slice\n",
      "  return np.nanmean(df, axis=0)\n"
     ]
    },
    {
     "name": "stdout",
     "output_type": "stream",
     "text": [
      "Résultats pour le vote aléatoire sur l'ensemble de test :\n",
      "RMSE:  1.6675860739293533\n",
      "MAE:  1.3821800000000002 \n",
      "\n",
      "Résultats pour le vote moyen sur l'ensemble de test :\n",
      "RMSE:  1.125667048751579\n",
      "MAE:  0.9447055360000001 \n",
      "\n",
      "Résultats pour le vote moyen utilisateur sur l'ensemble de test :\n",
      "RMSE:  1.0420735038196764\n",
      "MAE:  0.8350548256274631 \n",
      "\n",
      "Résultats pour le vote moyen item sur l'ensemble de test :\n",
      "RMSE:  1.023328056577985\n",
      "MAE:  0.8163486954910057 \n",
      "\n",
      "Résultats pour le vote moyen attendu sur l'ensemble de test :\n",
      "RMSE:  0.9821056739049301\n",
      "MAE:  0.7945234571987742 \n",
      "\n"
     ]
    }
   ],
   "source": [
    "## Je construis ma liste d'indice train et test\n",
    "# Pour faire une cross validation à 5 replis il suffit de remplacer 0 par i\n",
    "# et itérer de 0 à 4\n",
    "list_RMSE = []\n",
    "list_MAE = []\n",
    "\n",
    "for i in range(nbre_replis):\n",
    "\n",
    "    MUI_numpy_train_idx = np.concatenate(idx_split[:i] + idx_split[i+1:]) # Liste d'indices train\n",
    "    MUI_numpy_test_idx = idx_split[i] # Liste d'indices test\n",
    "\n",
    "    ## J'enlève les valeurs de test de la matrice d'entrainement, et vice versa\n",
    "    MUI_numpy_train = np.copy(MUI_numpy)\n",
    "    MUI_numpy_test = np.copy(MUI_numpy)\n",
    "    \n",
    "    row_train, col_train = zip(*[(idx//MUI_numpy.shape[1], idx%MUI_numpy.shape[1]) for idx in MUI_numpy_train_idx])\n",
    "    row_test, col_test = zip(*[(idx//MUI_numpy.shape[1], idx%MUI_numpy.shape[1]) for idx in MUI_numpy_test_idx])\n",
    "\n",
    "    \n",
    "    #  Je redonne la structure de matrice aux ensembles de test et d'entrainement\n",
    "    MUI_numpy_test[row_train, col_train] = np.nan\n",
    "    MUI_numpy_train[row_test, col_test] = np.nan\n",
    "\n",
    "\n",
    "    # On s'assure d'avoir les bonnes dimensions\n",
    "    #print(MUI_numpy_train[~np.isnan(MUI_numpy_train)].shape)\n",
    "    #print(MUI_numpy_test[~np.isnan(MUI_numpy_test)].shape)\n",
    "\n",
    "    # Documentation pour np.nanmean : https://numpy.org/doc/stable/reference/generated/numpy.nanmean.html\n",
    "        \n",
    "    # --------------------------------- Prédictions des Valeurs Test ---------------------------------\n",
    "    # Prédiction des votes aléatoires entre 1 et 5 avec une distribution uniforme d'entiers\n",
    "    votes_alea_pred      = np.full(MUI_numpy_test.shape, vote_aleatoire())\n",
    "\n",
    "    # Vote Moyen\n",
    "    # Prédiction des votes grâce à la moyenne des votes de la matrice d'entrainement\n",
    "    votes_moyenne_pred   = np.full(MUI_numpy_test.shape, vote_moyen(MUI_numpy_train))\n",
    "\n",
    "    # Vote Moyen Utilisateur\n",
    "    # Prédiction des votes grâce à la moyenne des votes par utilisateur de la matrice d'entrainement\n",
    "    votes_moyenne_U_pred = np.tile(vote_moyen_utilisateurs(MUI_numpy_train)[:, np.newaxis], (1, MUI_numpy_test.shape[1]))\n",
    "\n",
    "    # Vote Moyen Utilisateur\n",
    "    # Prédiction des votes grâce à la moyenne des votes par item de la matrice d'entrainement\n",
    "    votes_moyenne_I_pred = np.tile(vote_moyen_items(MUI_numpy_train), (MUI_numpy_test.shape[0], 1))\n",
    "\n",
    "    # Vote Moyen Attendu (Moyenne du vote moyen utilisateur et item)\n",
    "    moyenne_U_repeat = np.tile(vote_moyen_utilisateurs(MUI_numpy_train)[:, np.newaxis], (1, MUI_numpy_test.shape[1]))\n",
    "    moyenne_I_repeat = np.tile(vote_moyen_items(MUI_numpy_train), (MUI_numpy_test.shape[0], 1))\n",
    "\n",
    "    votes_moyenne_A_pred = (moyenne_U_repeat + moyenne_I_repeat)/2\n",
    "\n",
    "    # Calcul des RMSE\n",
    "    list_matrices = [votes_alea_pred, votes_moyenne_pred, votes_moyenne_U_pred, votes_moyenne_I_pred, votes_moyenne_A_pred]\n",
    "\n",
    "    list_RMSE.append(np.array([RMSE_mat(mat, MUI_numpy_test) for mat in list_matrices]))\n",
    "    list_MAE.append(np.array([MAE_mat(mat, MUI_numpy_test) for mat in list_matrices]))\n",
    "\n",
    "list_RMSE = np.array(list_RMSE)\n",
    "list_MAE = np.array(list_MAE)\n",
    "\n",
    "print(\"Résultats pour le vote aléatoire sur l'ensemble de test :\")\n",
    "print(\"RMSE: \", list_RMSE.mean(axis=0)[0])\n",
    "print(\"MAE: \", list_MAE.mean(axis=0)[0],'\\n')\n",
    "\n",
    "print(\"Résultats pour le vote moyen sur l'ensemble de test :\")\n",
    "print(\"RMSE: \", list_RMSE.mean(axis=0)[1])\n",
    "print(\"MAE: \", list_MAE.mean(axis=0)[1],'\\n')\n",
    "\n",
    "print(\"Résultats pour le vote moyen utilisateur sur l'ensemble de test :\")\n",
    "print(\"RMSE: \", list_RMSE.mean(axis=0)[2])\n",
    "print(\"MAE: \", list_MAE.mean(axis=0)[2],'\\n')\n",
    "\n",
    "print(\"Résultats pour le vote moyen item sur l'ensemble de test :\")\n",
    "print(\"RMSE: \", list_RMSE.mean(axis=0)[3])\n",
    "print(\"MAE: \", list_MAE.mean(axis=0)[3],'\\n')\n",
    "\n",
    "print(\"Résultats pour le vote moyen attendu sur l'ensemble de test :\")\n",
    "print(\"RMSE: \", list_RMSE.mean(axis=0)[4])\n",
    "print(\"MAE: \", list_MAE.mean(axis=0)[4],'\\n')"
   ]
  },
  {
   "cell_type": "markdown",
   "metadata": {},
   "source": [
    "### 1.4. Analysez des resultats\n",
    "\n",
    "On souhaite analyse et valider les resultats obtenus\n",
    "\n",
    "#### 1.4.1. Analyse comparatives des resultats\n",
    "\n",
    "Faites une analyse comparative des résultats  obtenus sans et avec la validation croisée. À quoi s'attendaient-t-on ? Qu'est-ce qu'on a obtenu? Pourquoi ?"
   ]
  },
  {
   "cell_type": "code",
   "execution_count": 78,
   "metadata": {},
   "outputs": [
    {
     "data": {
      "image/png": "[encoded data removed]",
      "text/plain": [
       "<Figure size 1500x500 with 5 Axes>"
      ]
     },
     "metadata": {},
     "output_type": "display_data"
    },
    {
     "data": {
      "image/png": "[encoded data removed]",
      "text/plain": [
       "<Figure size 1500x500 with 5 Axes>"
      ]
     },
     "metadata": {},
     "output_type": "display_data"
    }
   ],
   "source": [
    "#TODO Analayse\n",
    "test_names = [\"vote aléatoire\", \"vote moyen\", \"vote moyen utilisateur\", \"vote moyen item\", \"vote moyen attendu\"]\n",
    "\n",
    "fig, axes = plt.subplots(1, 5, figsize=(15, 5), sharey=True)\n",
    "\n",
    "for i in range(5):\n",
    "    ax = axes[i]  # Select subplot\n",
    "    rmse_no_vote = list_RMSE_no_vote[0][i]\n",
    "    rmse_vote = list_RMSE.mean(axis=0)[i]\n",
    "    \n",
    "    # Plot points (stacked)\n",
    "    ax.scatter(0, rmse_no_vote, color='b', marker='o') \n",
    "    ax.scatter(0, rmse_vote, color='r', marker='o') \n",
    "    \n",
    "    # Label each point directly\n",
    "    ax.text(0, rmse_no_vote, f\"{rmse_no_vote:.2f}\", ha='center', va='bottom', fontsize=10, color='b')\n",
    "    ax.text(0, rmse_vote, f\"{rmse_vote:.2f}\", ha='center', va='top', fontsize=10, color='r')\n",
    "    \n",
    "    # Set title\n",
    "    ax.set_title(test_names[i])\n",
    "    ax.grid(True, linestyle=\"--\", alpha=0.5)\n",
    "\n",
    "fig.legend([\"No cross validation\", \"With cross validation\"], loc=\"upper center\", ncol=2, fontsize=12)\n",
    "fig.supylabel(\"RMSE\")\n",
    "fig.suptitle(\"Comparaison des RMSE\", fontsize=14)\n",
    "\n",
    "plt.tight_layout()\n",
    "plt.show()\n",
    "\n",
    "fig, axes = plt.subplots(1, 5, figsize=(15, 5), sharey=True)\n",
    "\n",
    "for i in range(5):\n",
    "    ax = axes[i]  # Select subplot\n",
    "    rmse_no_vote = list_MAE_no_vote[0][i]\n",
    "    rmse_vote = list_MAE.mean(axis=0)[i]\n",
    "    \n",
    "    # Plot points (stacked)\n",
    "    ax.scatter(0, rmse_no_vote, color='b', marker='o') \n",
    "    ax.scatter(0, rmse_vote, color='r', marker='o') \n",
    "    \n",
    "    # Label each point directly\n",
    "    ax.text(0, rmse_no_vote, f\"{rmse_no_vote:.2f}\", ha='center', va='bottom', fontsize=10, color='b')\n",
    "    ax.text(0, rmse_vote, f\"{rmse_vote:.2f}\", ha='center', va='top', fontsize=10, color='r')\n",
    "    \n",
    "    # Set title\n",
    "    ax.set_title(test_names[i])\n",
    "    ax.grid(True, linestyle=\"--\", alpha=0.5)\n",
    "\n",
    "fig.legend([\"No cross validation\", \"With cross validation\"], loc=\"upper center\", ncol=2, fontsize=12)\n",
    "fig.supylabel(\"MAE\")\n",
    "fig.suptitle(\"Comparaison des MAE\", fontsize=14)\n",
    "\n",
    "plt.tight_layout()\n",
    "plt.show()"
   ]
  },
  {
   "cell_type": "markdown",
   "metadata": {},
   "source": [
    "On voit ici dans les deux comparaison entre les valeurs RMSE des différentes approches avec sans validation croisée que les valeurs sont très similaires à l'exception du vote aléatoire. Dans le MAE, on voit un phénomène similaire, les valeurs entre la valide croisée et sans validation croisée. On remarque que seul le vote aléatoire est significativement différent alors que pour toutes les autres approches, les résultats de MAE sont très comparable entre avec et sans validation croisée."
   ]
  },
  {
   "cell_type": "markdown",
   "metadata": {},
   "source": [
    "#### 1.4.2. Test d'hypothèse\n",
    "On souhaites déterminer si la différence entre l'erreur quadratique moyenne obtenue par le vote moyen item et le vote moyen utilisateur est statistiquement significative. Faites un test d'hypothèse à cet fin."
   ]
  },
  {
   "cell_type": "code",
   "execution_count": 79,
   "metadata": {},
   "outputs": [
    {
     "name": "stdout",
     "output_type": "stream",
     "text": [
      "For  vote aléatoire there is significant RMSE difference (p < 0.05)\n",
      "For  vote aléatoire there is no significant MAE difference (p ≥ 0.05)\n",
      "\n",
      "For  vote moyen there is significant RMSE difference (p < 0.05)\n",
      "For  vote moyen there is no significant MAE difference (p ≥ 0.05)\n",
      "\n",
      "For  vote moyen utilisateur there is significant RMSE difference (p < 0.05)\n",
      "For  vote moyen utilisateur there is no significant MAE difference (p ≥ 0.05)\n",
      "\n",
      "For  vote moyen item there is significant RMSE difference (p < 0.05)\n",
      "For  vote moyen item there is no significant MAE difference (p ≥ 0.05)\n",
      "\n",
      "For  vote moyen attendu there is significant RMSE difference (p < 0.05)\n",
      "For  vote moyen attendu there is no significant MAE difference (p ≥ 0.05)\n",
      "\n"
     ]
    },
    {
     "name": "stderr",
     "output_type": "stream",
     "text": [
      "/home/tourtour/poly/log6308/env_lab/lib/python3.12/site-packages/scipy/stats/_axis_nan_policy.py:586: RuntimeWarning: Precision loss occurred in moment calculation due to catastrophic cancellation. This occurs when the data are nearly identical. Results may be unreliable.\n",
      "  res = hypotest_fun_out(*samples, **kwds)\n"
     ]
    }
   ],
   "source": [
    "# TODO\n",
    "## t-Test:\n",
    "test_names = [\"vote aléatoire\", \"vote moyen\", \"vote moyen utilisateur\", \"vote moyen item\", \"vote moyen attendu\"]\n",
    "\n",
    "for i in range(len(list_matrices)):\n",
    "    t_stat_rmse, p_value_rmse = sp.stats.ttest_ind(list_matrices_no_vote[1].flatten(), list_matrices[1].flatten())\n",
    "    t_stat_mae, p_value_mae = sp.stats.ttest_ind(list_MAE_no_vote[0], list_MAE[0])\n",
    "    if p_value_rmse < 0.05:\n",
    "        print(\"For \", test_names[i],\"there is significant RMSE difference (p < 0.05)\")\n",
    "    else:\n",
    "        print(\"For \", test_names[i],\"there is no significant RMSE difference (p ≥ 0.05)\")\n",
    "\n",
    "    if p_value_mae < 0.05:\n",
    "        print(\"For \", test_names[i],\"there is significant MAE difference (p < 0.05)\")\n",
    "    else:\n",
    "        print(\"For \", test_names[i],\"there is no significant MAE difference (p ≥ 0.05)\")\n",
    "    print()\n",
    "\n",
    "# End TODO"
   ]
  },
  {
   "cell_type": "markdown",
   "metadata": {},
   "source": [
    "Nous ne pensons pas avoir compris ce qui était attendu au niveau des comparaisons et des tests significatifs. Nous avons donc essayé de faire le t-test entre les valeurs de matrices estimées avec et sans la validation croisée."
   ]
  },
  {
   "cell_type": "markdown",
   "metadata": {},
   "source": [
    "## Question 2 - Filtres Collaboratifs\n",
    "\n",
    "On désire calculer les erreurs des prédictions des approches de filtres collaboratifs item-item et utilisateur-utilisateur. Pour cela, on se propose d'utiliser les fonctions ci-dessous qui permettent de:\n",
    " - Calculer la similarité cosinus entre deux vecteurs/matrices ;\n",
    " - Predire les votes par l'approche filtrage collaboratifs .\n",
    "\n",
    "Completez les!"
   ]
  },
  {
   "cell_type": "code",
   "execution_count": 80,
   "metadata": {},
   "outputs": [],
   "source": [
    "## Similarité Cosinus entre les vecteurs ligne de la matrice A\n",
    "#  et les vecteurs ligne de la matrice B\n",
    "def cosinus_matrices(A, B):\n",
    "    A = A.copy()\n",
    "    B = B.copy()\n",
    "\n",
    "    # Remplace les nan par 0, pour ne pas rajouter + de NAN après le produit matriciel\n",
    "    A = np.nan_to_num(A, nan=0.0)\n",
    "    B = np.nan_to_num(B, nan=0.0)\n",
    "\n",
    "    # Matrice colonne des normes de chacuns des vecteurs de A\n",
    "    col_norm_A = np.linalg.norm(A, axis=1, keepdims=True)\n",
    "\n",
    "    # Matrice ligne des normes de chacuns des vecteurs de B\n",
    "    col_norm_B = np.linalg.norm(B, axis=1, keepdims=True).T \n",
    "\n",
    "    dot_product = np.dot(A, B.T)\n",
    "    norm_product = col_norm_A * col_norm_B\n",
    "    cos_similarity = dot_product / norm_product\n",
    "    cos_similarity = np.nan_to_num(cos_similarity, nan=0.0)\n",
    "    cos_similarity[cos_similarity == 1] = 0\n",
    "\n",
    "    return cos_similarity"
   ]
  },
  {
   "cell_type": "code",
   "execution_count": 81,
   "metadata": {},
   "outputs": [],
   "source": [
    "def filtre_collaboratif(V, W):\n",
    "\n",
    "    # Crée une matrice booléenne de la même taille que V. Les éléments qui ne sont pas NaN dans V \n",
    "    # (c'est-à-dire les éléments pour lesquels une note existe) sont marqués par 1, et les NaN par 0. \n",
    "    # Cette matrice sera utilisée pour s'assurer que seules les notes existantes contribuent aux prédictions.\n",
    "    Bool_m = (~np.isnan(V))*1 \n",
    "    #print(Bool_m)\n",
    "\n",
    "    V = V.copy()\n",
    "    W = W.copy()\n",
    "    V_moy = vote_moyen_utilisateurs(V)\n",
    "\n",
    "    # Les valeurs NaN dans V et W sont remplacées par 0. Cela permet d'effectuer des opérations matricielles numpy sans erreur.\n",
    "    V = np.nan_to_num(V, nan=0.0)\n",
    "    W = np.nan_to_num(W, nan=0.0)\n",
    "\n",
    "    # Calcule la somme des similarités absolues pour chaque utilisateur, mais seulement pour les items qu'ils ont notés (grâce à Bool_m). \n",
    "    K = 1 / np.sum(np.abs(W), axis=0)\n",
    "    # print(np.sum(np.abs(W), axis=0))\n",
    "    # print(f\"K  : {K}\")\n",
    "\n",
    "    # Calcule les notes prédites. \n",
    "    #print(f\"V  : {V}\")\n",
    "    #print(f\"V_moy  : {V_moy}\")\n",
    "    V_res = V - V_moy[:, np.newaxis]\n",
    "    #print(f\"V_res  : {V_res}\")\n",
    "    n_rows, n_columns = V.shape\n",
    "\n",
    "    V_pred = V.copy()\n",
    "\n",
    "    for a in range(n_rows):\n",
    "        for j in range(n_columns):\n",
    "            # print(W[a].shape)\n",
    "            # print(V_res[:, j].shape)\n",
    "            V_pred[a, j] = V_moy[a] + K[a] * np.sum(W[a] * V_res[:, j])\n",
    "\n",
    "    return V_pred"
   ]
  },
  {
   "cell_type": "markdown",
   "metadata": {},
   "source": [
    "Maintenant, pour le calcul des differents erreur, procédez par étapes et rapportez, à chaque étape, l'erreur quadratique moyenne et l'erreur absolue moyenne à partir de la matrice de prédiction obtenue à l'aide de la matrice cosinus de similarité.\n",
    "\n",
    "M_pred = MUI x M_cos"
   ]
  },
  {
   "cell_type": "markdown",
   "metadata": {},
   "source": [
    "## 2 -a) Prédiction avec tous les utilisateurs/items \n",
    "\n",
    "Prediction (sans voisins rapprochés) et sans correction pour biais utilisateur/item (sans normaliser en soustrayant la moyenne utilisateur/item)"
   ]
  },
  {
   "cell_type": "markdown",
   "metadata": {},
   "source": [
    "Ici ce que l'on fait c'est d'utiliser les méthodes que l'on a créé plus tôt de filtre collaboratif et de matrice cosinus pour obtenir nos prédictions. La fonction filtre_collaboratif est faite pour fonctionner selon la méthode utilisateur-utilisateur, mais si on transpose la matrice avant de la passer aux fonctions on obtient la méthode item-item"
   ]
  },
  {
   "cell_type": "code",
   "execution_count": 82,
   "metadata": {},
   "outputs": [],
   "source": [
    "# TODO\n",
    "## Approche Utilisateur\n",
    "# MUI_filled = np.nan_to_num(MUI_numpy, nan=0.0)\n",
    "M_cosU = cosinus_matrices(MUI_numpy, MUI_numpy)\n",
    "MUI_U_pred = filtre_collaboratif(MUI_numpy, M_cosU)\n",
    "# print(MUI_numpy)\n",
    "# print(MUI_U_pred)\n",
    "\n",
    "#End TODO"
   ]
  },
  {
   "cell_type": "code",
   "execution_count": 83,
   "metadata": {},
   "outputs": [
    {
     "name": "stdout",
     "output_type": "stream",
     "text": [
      "RMSE:  2.8415746545224034\n",
      "MAE:  2.644070673064344 \n",
      "\n"
     ]
    }
   ],
   "source": [
    "rmse_U = RMSE_mat(MUI_U_pred, MUI_numpy)\n",
    "mae_U = MAE_mat(MUI_U_pred, MUI_numpy)\n",
    "print(\"RMSE: \", rmse_U)\n",
    "print(\"MAE: \", mae_U,'\\n')"
   ]
  },
  {
   "cell_type": "code",
   "execution_count": 84,
   "metadata": {},
   "outputs": [],
   "source": [
    "# TODO\n",
    "\n",
    "## Approche Item\n",
    "M_cosI = cosinus_matrices(MUI_numpy.T, MUI_numpy.T)\n",
    "MUI_I_pred = filtre_collaboratif(MUI_numpy.T, M_cosI).T\n",
    "\n",
    "#End TODO"
   ]
  },
  {
   "cell_type": "code",
   "execution_count": 85,
   "metadata": {},
   "outputs": [
    {
     "name": "stdout",
     "output_type": "stream",
     "text": [
      "RMSE:  2.723698104623824\n",
      "MAE:  2.5087321588862266 \n",
      "\n"
     ]
    }
   ],
   "source": [
    "rmse_I = RMSE_mat(MUI_I_pred, MUI_numpy)\n",
    "mae_I = MAE_mat(MUI_I_pred, MUI_numpy)\n",
    "print(\"RMSE: \", rmse_I)\n",
    "print(\"MAE: \", mae_I,'\\n')"
   ]
  },
  {
   "cell_type": "markdown",
   "metadata": {},
   "source": [
    "Ici, on obtient des résultats assez mauvais, mais c'est normal puisqu'on a aucune technique de voisinage et on fait sans biais. On a donc des valeurs plus loin de la réalité. Même raisonnement pour U-U et I-I"
   ]
  },
  {
   "cell_type": "markdown",
   "metadata": {},
   "source": [
    "## 2 -b) Correction pour biais utilisateur/item. \n",
    "\n",
    "Vous pouvez prendre l'ensemble des les valeurs observées dans le calcul des moyennes items et utilisateurs (des précisions sur ce point seront données en classe — voir aussi le bonus)\n",
    "\n",
    "\n",
    "> Ici le biais utilisé est le Vote moyen.  \n",
    "Attention (Moyenne du vote moyen utilisateur et item)"
   ]
  },
  {
   "cell_type": "code",
   "execution_count": 86,
   "metadata": {},
   "outputs": [
    {
     "name": "stdout",
     "output_type": "stream",
     "text": [
      "RMSE:  0.9668089878000198\n",
      "MAE:  0.7825830601768504 \n",
      "\n"
     ]
    }
   ],
   "source": [
    "#TODO\n",
    "\n",
    "## Calcul de la moyenne attendue\n",
    "votes_moyenne_U_pred = vote_moyen_utilisateurs(MUI_numpy)\n",
    "#print(votes_moyenne_U_pred)\n",
    "\n",
    "# Vote Moyen Utilisateur\n",
    "votes_moyenne_I_pred = vote_moyen_items(MUI_numpy)\n",
    "\n",
    "# # Vote Moyen Attendu (Moyenne du vote moyen utilisateur et item)\n",
    "moyenne_U_repeat = np.tile(vote_moyen_utilisateurs(MUI_numpy)[:, np.newaxis], (1, MUI_numpy.shape[1]))\n",
    "moyenne_I_repeat = np.tile(vote_moyen_items(MUI_numpy), (MUI_numpy.shape[0], 1))\n",
    "\n",
    "# # Notre Baseline\n",
    "R_moy = (moyenne_U_repeat + moyenne_I_repeat) / 2\n",
    "\n",
    "#print(R_moy)\n",
    "rmse = RMSE_mat(R_moy, MUI_numpy)\n",
    "mae = MAE_mat(R_moy, MUI_numpy)\n",
    "print(\"RMSE: \", rmse)\n",
    "print(\"MAE: \", mae,'\\n')\n",
    "\n",
    "#End TODO"
   ]
  },
  {
   "cell_type": "markdown",
   "metadata": {},
   "source": [
    "NB : Il est possible d'utiliser la matrice de vote moyen utilisateur ou item au lieu d'utiliser le vote attendu. Néanmoins le vote attendu donne de meilleurs résultats."
   ]
  },
  {
   "cell_type": "markdown",
   "metadata": {},
   "source": [
    "Pour les méthodes suivantes, ce que l'on a compris de ce qui était demandé c'était de prendre le biais (utilisateur dans ce cas-ci, item dans le prochain cas) et de le soustraire à notre matrice utilisateur-item de base. Le biais ici est la valeur moyenne_U_repeat, car c'est le biais par utilisateur répété sur toutes les colonnes pour avoir la matrice complète. Ensuite on recalcule notre similarité cosinus, on repasse le tout dans notre filtre collaboratif et on finit par réajouter le biais pour avoir des valeurs sensées. "
   ]
  },
  {
   "cell_type": "code",
   "execution_count": 87,
   "metadata": {},
   "outputs": [
    {
     "name": "stdout",
     "output_type": "stream",
     "text": [
      "Avec correction des biais - RMSE: 0.9445045441591039\n",
      "Avec correction des biais - MAE: 0.7496254141527522\n"
     ]
    }
   ],
   "source": [
    "#TODO : Approche Utilisateur\n",
    "## Calculer la matrice de vote Item-Item sans biais\n",
    "\n",
    "\n",
    "MUI_WB_U_U = MUI_numpy - moyenne_U_repeat\n",
    "\n",
    "#Code\n",
    "cos_U_WB = cosinus_matrices(MUI_WB_U_U, MUI_WB_U_U )\n",
    "M_pred_U_WB = filtre_collaboratif(MUI_WB_U_U, cos_U_WB)\n",
    "\n",
    "M_final = M_pred_U_WB + moyenne_U_repeat\n",
    "\n",
    "rmse_corrected = RMSE_mat(M_final, MUI_numpy)\n",
    "mae_corrected = MAE_mat(M_final, MUI_numpy)\n",
    "\n",
    "print(\"Avec correction des biais - RMSE:\", rmse_corrected)\n",
    "print(\"Avec correction des biais - MAE:\", mae_corrected)\n",
    "\n",
    "\n",
    "#End TODO"
   ]
  },
  {
   "cell_type": "code",
   "execution_count": 88,
   "metadata": {},
   "outputs": [
    {
     "data": {
      "text/plain": [
       "<matplotlib.legend.Legend at 0x7c0e0e87c590>"
      ]
     },
     "execution_count": 88,
     "metadata": {},
     "output_type": "execute_result"
    },
    {
     "data": {
      "image/png": "[encoded data removed]",
      "text/plain": [
       "<Figure size 640x480 with 1 Axes>"
      ]
     },
     "metadata": {},
     "output_type": "display_data"
    }
   ],
   "source": [
    "# RMSE pour U-U\n",
    "plt.subplot(1, 1, 1)\n",
    "plt.plot(rmse_corrected, label='RMSE', marker='o', color='b')\n",
    "plt.plot(mae_corrected, label='MAE', marker='o', color='r')\n",
    "plt.axhline(y=rmse, color='g', linestyle='--', label='Baseline RMSE')\n",
    "plt.axhline(y=mae, color='y', linestyle='--', label='Baseline MAE')\n",
    "plt.ylabel('RMSE/MAE')\n",
    "plt.title('Utilisateur-Utilisateur')\n",
    "plt.legend()"
   ]
  },
  {
   "cell_type": "markdown",
   "metadata": {},
   "source": [
    "Comme on peut le voir, ici on bat notre baseline par la méthode d'ajout de biais"
   ]
  },
  {
   "cell_type": "code",
   "execution_count": 89,
   "metadata": {},
   "outputs": [
    {
     "name": "stderr",
     "output_type": "stream",
     "text": [
      "/tmp/ipykernel_70898/3753985323.py:19: RuntimeWarning: invalid value encountered in divide\n",
      "  cos_similarity = dot_product / norm_product\n",
      "/tmp/ipykernel_70898/1895654846.py:18: RuntimeWarning: divide by zero encountered in divide\n",
      "  K = 1 / np.sum(np.abs(W), axis=0)\n",
      "/tmp/ipykernel_70898/1895654846.py:35: RuntimeWarning: invalid value encountered in scalar multiply\n",
      "  V_pred[a, j] = V_moy[a] + K[a] * np.sum(W[a] * V_res[:, j])\n"
     ]
    },
    {
     "name": "stdout",
     "output_type": "stream",
     "text": [
      "Avec correction des biais - RMSE: 0.925892427686442\n",
      "Avec correction des biais - MAE: 0.7393201736566887\n"
     ]
    }
   ],
   "source": [
    "#TODO : Approche Item\n",
    "## Calculer la matrice de vote Item-Item sans biais\n",
    "\n",
    "\n",
    "MUI_WB_I_I = MUI_numpy - moyenne_I_repeat\n",
    "\n",
    "#Code\n",
    "cos_I_WB = cosinus_matrices(MUI_WB_I_I.T, MUI_WB_I_I.T )\n",
    "M_pred_I_WB = filtre_collaboratif(MUI_WB_I_I.T, cos_I_WB).T\n",
    "\n",
    "M_final = M_pred_I_WB + moyenne_I_repeat\n",
    "\n",
    "rmse_corrected = RMSE_mat(M_final, MUI_numpy)\n",
    "mae_corrected = MAE_mat(M_final, MUI_numpy)\n",
    "\n",
    "print(\"Avec correction des biais - RMSE:\", rmse_corrected)\n",
    "print(\"Avec correction des biais - MAE:\", mae_corrected)\n",
    "\n",
    "\n",
    "#End TODO"
   ]
  },
  {
   "cell_type": "code",
   "execution_count": 90,
   "metadata": {},
   "outputs": [
    {
     "data": {
      "text/plain": [
       "<matplotlib.legend.Legend at 0x7c0e0efb9fd0>"
      ]
     },
     "execution_count": 90,
     "metadata": {},
     "output_type": "execute_result"
    },
    {
     "data": {
      "image/png": "[encoded data removed]",
      "text/plain": [
       "<Figure size 640x480 with 1 Axes>"
      ]
     },
     "metadata": {},
     "output_type": "display_data"
    }
   ],
   "source": [
    "# RMSE pour I-I\n",
    "plt.subplot(1, 1, 1)\n",
    "plt.plot(rmse_corrected, label='RMSE', marker='o', color='b')\n",
    "plt.plot(mae_corrected, label='MAE', marker='o', color='r')\n",
    "plt.axhline(y=rmse, color='g', linestyle='--', label='Baseline RMSE')\n",
    "plt.axhline(y=mae, color='y', linestyle='--', label='Baseline MAE')\n",
    "plt.ylabel('RMSE/MAE')\n",
    "plt.title('Item-Item')\n",
    "plt.legend()"
   ]
  },
  {
   "cell_type": "markdown",
   "metadata": {},
   "source": [
    "Comme on le voit dans le graphique, maintenant qu'on utilise le biais, on bat notre baseline"
   ]
  },
  {
   "cell_type": "markdown",
   "metadata": {},
   "source": [
    "## 2 -c) Ajout de voisins rapprochés"
   ]
  },
  {
   "cell_type": "markdown",
   "metadata": {},
   "source": [
    "Avec k=100 voisins rapprochés"
   ]
  },
  {
   "cell_type": "markdown",
   "metadata": {},
   "source": [
    "Ici, on redéfinit la fonction de filtre collaboratif pour n'utiliser que les k voisins les plus proches selon la matrice de similarité cosinus"
   ]
  },
  {
   "cell_type": "code",
   "execution_count": 91,
   "metadata": {},
   "outputs": [],
   "source": [
    "import numpy as np\n",
    "\n",
    "def filtre_collaboratif_k_voisins(V, W, k=10):\n",
    "    \"\"\"\n",
    "    Implémente le filtrage collaboratif basé sur l'approche utilisateur-utilisateur (U-U)\n",
    "    en utilisant uniquement les k plus proches voisins pour la prédiction.\n",
    "    \n",
    "    Args:\n",
    "        V (numpy.ndarray): Matrice des votes (utilisateurs x items)\n",
    "        W (numpy.ndarray): Matrice de similarité utilisateur-utilisateur\n",
    "        k (int): Nombre de voisins à prendre en compte\n",
    "\n",
    "    Returns:\n",
    "        numpy.ndarray: Matrice des votes prédits\n",
    "    \"\"\"\n",
    "    \n",
    "    # Crée une matrice booléenne indiquant les votes existants\n",
    "    Bool_m = (~np.isnan(V)) * 1 \n",
    "\n",
    "    V = V.copy()\n",
    "    W = W.copy()\n",
    "    \n",
    "    # Calcule la moyenne des votes par utilisateur\n",
    "    V_moy = vote_moyen_utilisateurs(V)  # moyenne par utilisateur (lignes)\n",
    "    \n",
    "    # Remplace les NaN par 0 pour éviter les erreurs dans les calculs matriciels\n",
    "    V = np.nan_to_num(V, nan=0.0)\n",
    "    W = np.nan_to_num(W, nan=0.0)\n",
    "\n",
    "    # Nombre d'utilisateurs et d'items\n",
    "    n_rows, n_columns = V.shape\n",
    "\n",
    "    # Initialisation de la matrice des prédictions\n",
    "    V_pred = V.copy()\n",
    "\n",
    "    # Parcours des utilisateurs pour calculer leurs prédictions\n",
    "    for a in range(n_rows):\n",
    "        # Indices des k plus proches voisins (triés par similarité décroissante)\n",
    "        voisins_k = np.argsort(-np.abs(W[a]))[1:k+1]  # [1:k+1] pour exclure a lui-même\n",
    "\n",
    "        # Normalisation : somme des similarités absolues des voisins k\n",
    "        K_a = 1 / np.sum(np.abs(W[a, voisins_k]) + 1e-8)  # Évite division par zéro\n",
    "        \n",
    "        for j in range(n_columns):\n",
    "            # Prédiction basée uniquement sur les k voisins\n",
    "            V_pred[a, j] = V_moy[a] + K_a * np.sum(W[a, voisins_k] * (V[voisins_k, j] - V_moy[voisins_k]))\n",
    "\n",
    "    return V_pred\n"
   ]
  },
  {
   "cell_type": "markdown",
   "metadata": {},
   "source": [
    "Ensuite, on répond à la question et au bonus 1 en calculant les prédictions pour les voisins les plus proches de k=10 à k=100, puis on fait un graphique. On garde aussi la logique de biais de la section précédente pour faire nos prédictions."
   ]
  },
  {
   "cell_type": "code",
   "execution_count": 92,
   "metadata": {},
   "outputs": [
    {
     "name": "stdout",
     "output_type": "stream",
     "text": [
      "Approche Utilisateur (k=10) :\n",
      "RMSE: 0.8882439179305199\n",
      "MAE: 0.6982925647849316\n",
      "Approche Utilisateur (k=20) :\n",
      "RMSE: 0.8913256636441519\n",
      "MAE: 0.7010276834202411\n",
      "Approche Utilisateur (k=30) :\n",
      "RMSE: 0.8958929294634597\n",
      "MAE: 0.7047725172577262\n",
      "Approche Utilisateur (k=40) :\n",
      "RMSE: 0.9001194408525941\n",
      "MAE: 0.7084494787501376\n",
      "Approche Utilisateur (k=50) :\n",
      "RMSE: 0.9039003857201601\n",
      "MAE: 0.7115841659256289\n",
      "Approche Utilisateur (k=60) :\n",
      "RMSE: 0.9072713002803267\n",
      "MAE: 0.7145817713893\n",
      "Approche Utilisateur (k=70) :\n",
      "RMSE: 0.9101800722829506\n",
      "MAE: 0.7171058503633864\n",
      "Approche Utilisateur (k=80) :\n",
      "RMSE: 0.9128409875347928\n",
      "MAE: 0.7194030029972805\n",
      "Approche Utilisateur (k=90) :\n",
      "RMSE: 0.9152386204368786\n",
      "MAE: 0.7215162260919483\n",
      "Approche Utilisateur (k=100) :\n",
      "RMSE: 0.9174508502771223\n",
      "MAE: 0.7234291796579008\n"
     ]
    }
   ],
   "source": [
    "## Approche Utilisateur\n",
    "rmse_UU_values = []\n",
    "mae_UU_values = []\n",
    "k_values = range(10, 101, 10)\n",
    "\n",
    "M_cos_WB_UU = cosinus_matrices(MUI_WB_U_U, MUI_WB_U_U)\n",
    "for n_voisins in k_values:\n",
    "    M_pred_k_UU = filtre_collaboratif_k_voisins(MUI_WB_U_U, M_cos_WB_UU, n_voisins)\n",
    "    M_final_k_UU = M_pred_k_UU + moyenne_U_repeat\n",
    "\n",
    "    rmse_UU = RMSE_mat(M_final_k_UU, MUI_numpy)\n",
    "    mae_UU = MAE_mat(M_final_k_UU, MUI_numpy)\n",
    "\n",
    "    rmse_UU_values.append(rmse_UU)\n",
    "    mae_UU_values.append(mae_UU)\n",
    "\n",
    "    print(f\"Approche Utilisateur (k={n_voisins}) :\\nRMSE: {rmse_UU}\\nMAE: {mae_UU}\")\n"
   ]
  },
  {
   "cell_type": "code",
   "execution_count": 93,
   "metadata": {},
   "outputs": [
    {
     "data": {
      "text/plain": [
       "<matplotlib.legend.Legend at 0x7c0e0e84a810>"
      ]
     },
     "execution_count": 93,
     "metadata": {},
     "output_type": "execute_result"
    },
    {
     "data": {
      "image/png": "[encoded data removed]",
      "text/plain": [
       "<Figure size 640x480 with 1 Axes>"
      ]
     },
     "metadata": {},
     "output_type": "display_data"
    }
   ],
   "source": [
    "# RMSE pour U-U\n",
    "plt.subplot(1, 1, 1)\n",
    "plt.plot(k_values, rmse_UU_values, label='RMSE', marker='o', color='b')\n",
    "plt.plot(k_values, mae_UU_values, label='MAE', marker='o', color='r')\n",
    "plt.axhline(y=rmse, color='g', linestyle='--', label='Baseline RMSE')\n",
    "plt.axhline(y=mae, color='y', linestyle='--', label='Baseline MAE')\n",
    "plt.xlabel('Nombre de voisins k')\n",
    "plt.ylabel('RMSE/MAE')\n",
    "plt.title('Utilisateur-Utilisateur')\n",
    "plt.legend()"
   ]
  },
  {
   "cell_type": "markdown",
   "metadata": {},
   "source": [
    "Comme on peut le constater, plus notre nombre de voisins est grand plus on a un mauvais RMSE et MAE. C'est parce que plus on augmente le nombre de voisins, plus ils sont différents de notre utilisateur, alors on perds un peu de précision dans nos prédictions car on se fie à des utilisateurs moins similaires. On voit aussi qu'on a battu notre baseline sur tous nos essaies dans le graphe."
   ]
  },
  {
   "cell_type": "markdown",
   "metadata": {},
   "source": [
    "Ici, on refait la même chose pour l'approche Item-Item"
   ]
  },
  {
   "cell_type": "code",
   "execution_count": 94,
   "metadata": {},
   "outputs": [
    {
     "name": "stderr",
     "output_type": "stream",
     "text": [
      "/tmp/ipykernel_70898/3753985323.py:19: RuntimeWarning: invalid value encountered in divide\n",
      "  cos_similarity = dot_product / norm_product\n"
     ]
    },
    {
     "name": "stdout",
     "output_type": "stream",
     "text": [
      "Approche Utilisateur (k=10) :\n",
      "RMSE: 0.8652427089441067\n",
      "MAE: 0.6874086443359931\n",
      "Approche Utilisateur (k=20) :\n",
      "RMSE: 0.8714516771438561\n",
      "MAE: 0.6935570008162306\n",
      "Approche Utilisateur (k=30) :\n",
      "RMSE: 0.8768688124635178\n",
      "MAE: 0.6981603599656333\n",
      "Approche Utilisateur (k=40) :\n",
      "RMSE: 0.8815935847929082\n",
      "MAE: 0.7020413835128481\n",
      "Approche Utilisateur (k=50) :\n",
      "RMSE: 0.8856254478063318\n",
      "MAE: 0.7054115070970799\n",
      "Approche Utilisateur (k=60) :\n",
      "RMSE: 0.8888249707239608\n",
      "MAE: 0.7080194656754094\n",
      "Approche Utilisateur (k=70) :\n",
      "RMSE: 0.8914386097929294\n",
      "MAE: 0.7101605185815457\n",
      "Approche Utilisateur (k=80) :\n",
      "RMSE: 0.8936287029126324\n",
      "MAE: 0.7119290639515908\n",
      "Approche Utilisateur (k=90) :\n",
      "RMSE: 0.895620199128704\n",
      "MAE: 0.7135398740027236\n",
      "Approche Utilisateur (k=100) :\n",
      "RMSE: 0.8974390768307904\n",
      "MAE: 0.7150057569797925\n"
     ]
    }
   ],
   "source": [
    "## Approche Item\n",
    "rmse_II_values = []\n",
    "mae_II_values = []\n",
    "k_values = range(10, 101, 10)\n",
    "\n",
    "M_cos_WB_II = cosinus_matrices(MUI_WB_I_I.T, MUI_WB_I_I.T)\n",
    "for n_voisins in k_values:\n",
    "    M_pred_k_II = filtre_collaboratif_k_voisins(MUI_WB_I_I.T, M_cos_WB_II, n_voisins).T\n",
    "    M_final_k_II = M_pred_k_II + moyenne_I_repeat\n",
    "\n",
    "    rmse_II = RMSE_mat(M_final_k_II, MUI_numpy)\n",
    "    mae_II = MAE_mat(M_final_k_II, MUI_numpy)\n",
    "\n",
    "    rmse_II_values.append(rmse_II)\n",
    "    mae_II_values.append(mae_II)\n",
    "\n",
    "    print(f\"Approche Utilisateur (k={n_voisins}) :\\nRMSE: {rmse_II}\\nMAE: {mae_II}\")"
   ]
  },
  {
   "cell_type": "code",
   "execution_count": 95,
   "metadata": {},
   "outputs": [
    {
     "data": {
      "text/plain": [
       "<matplotlib.legend.Legend at 0x7c0e0ef70d40>"
      ]
     },
     "execution_count": 95,
     "metadata": {},
     "output_type": "execute_result"
    },
    {
     "data": {
      "image/png": "[encoded data removed]",
      "text/plain": [
       "<Figure size 640x480 with 1 Axes>"
      ]
     },
     "metadata": {},
     "output_type": "display_data"
    }
   ],
   "source": [
    "# RMSE pour I-I\n",
    "plt.subplot(1, 1, 1)\n",
    "plt.plot(k_values, rmse_II_values, label='RMSE', marker='o', color='b')\n",
    "plt.plot(k_values, mae_II_values, label='MAE', marker='o', color='r')\n",
    "plt.axhline(y=rmse, color='g', linestyle='--', label='Baseline RMSE')\n",
    "plt.axhline(y=mae, color='y', linestyle='--', label='Baseline MAE')\n",
    "plt.xlabel('Nombre de voisins k')\n",
    "plt.ylabel('RMSE/MAE')\n",
    "plt.title('Item-Item')\n",
    "plt.legend()"
   ]
  },
  {
   "cell_type": "markdown",
   "metadata": {},
   "source": [
    "Comme on peut voir sur le graphe, la même chose se produit qu'à la méthode Utilisateur-Utilisateur. Plus on a de voisins, moins ceux-ci sont similaires et on perd donc de la précision. Nous avons quand même amélioré le RMSE et le MAE selon notre baseline, comme on peut le voir avec les lignes dans le graphe "
   ]
  },
  {
   "cell_type": "markdown",
   "metadata": {},
   "source": []
  }
 ],
 "metadata": {
  "kernelspec": {
   "display_name": "base",
   "language": "python",
   "name": "python3"
  },
  "language_info": {
   "codemirror_mode": {
    "name": "ipython",
    "version": 3
   },
   "file_extension": ".py",
   "mimetype": "text/x-python",
   "name": "python",
   "nbconvert_exporter": "python",
   "pygments_lexer": "ipython3",
   "version": "3.12.8"
  }
 },
 "nbformat": 4,
 "nbformat_minor": 2
}
