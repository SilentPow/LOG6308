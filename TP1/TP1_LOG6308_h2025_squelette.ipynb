{
 "cells": [
  {
   "cell_type": "markdown",
   "metadata": {},
   "source": [
    "## <center> École Polytechnique de Montréal <br> Département Génie Informatique et Génie Logiciel <br>  LOG6308 - Systèmes de recommandations <br> </center>\n",
    "\n",
    "## <center> TP1 -- Approches collaboratives : utilisateur-utilisateur, item-item, et agglomérative </center>"
   ]
  },
  {
   "cell_type": "markdown",
   "metadata": {},
   "source": [
    "Le travail doit être fait en **équipe de deux**. \n",
    "\n",
    "## Identification de l'équipe: 02_eq28\n",
    "\n",
    "### Groupe de laboratoire: 02\n",
    "\n",
    "### Equipe numéro : 28\n",
    "\n",
    "### Membres:\n",
    "\n",
    "François Tourigny (2079718)\n",
    "\n",
    "Gabriel Côté (2082508)\n",
    "\n",
    "<br>\n",
    "\n",
    "**Nature de la contribution:** Décrivez brièvement ce qui a été fait par chaque membre de l’équipe. Tous les membres sont censés contribuer au développement. Bien que chaque membre puisse effectuer différentes tâches, vous devez vous efforcer d’obtenir une répartition égale du travail. Soyez précis sur la contribution de chacun."
   ]
  },
  {
   "cell_type": "markdown",
   "metadata": {},
   "source": [
    "### Enoncé du TP\n",
    "\n",
    "Ce notebook se trouve sous l'énoncé général du TP au lien [cours.polymtl.ca/MDesmarais/log6308/20251/Tp/tp1.html](https://cours.polymtl.ca/MDesmarais/log6308/20251/Tp/tp1.html).  Les données sont accessibles de ce lien.<br>\n",
    "\n",
    "### Jeux de données\n",
    "\n",
    "Vous avez 3 fichiers à votre disposition:\n",
    "\n",
    "- 'Data/votes.csv': Matrice de données de 100 000 votes faits par 943 utilisateurs et portant sur 1682 items.\n",
    "    - **user.id**: Indentifiant de l'utilisateur\n",
    "    - **item.id**: Identifiant de l'item/film\n",
    "    - **rating**: vote attribué à l'item par l'utilisateur\n",
    "    - **timestamp**: Date d'enregistrement du vote (à ignorer pour ce TP) \n",
    "- 'Data/items.csv': Matrice de données sur les films\n",
    "    - **movie.id**: Identifiant du film\n",
    "    - **movie.title**: Nom du film\n",
    "    - **release.date**: Date de sortie\n",
    "    - **video.release.date**: Date de sortie de la video\n",
    "    - **IMDb.URL**: Lien vers le film\n",
    "    - les 19 autres champs sont les categories des films qui sont les suivantes:\n",
    "        \"unknown\", \"Action\", \"Adventure\", \"Animation\", \"Children's\", \"Comedy\", \"Crime\", \"Documentary\", \"Drama\", \"Fantasy\", \"Film-Noir\", \"Horror\", \"Musical\", \"Mystery\", \"Romance\", \"Sci-Fi\", \"Thriller\", \"War\", \"Western\"\n",
    "- 'Data/u.csv': Matrice de données sur les utilisateurs\n",
    "    - **id**: Identififiant de l'utilisateurs\n",
    "    - **age**: Age de l'utilisateur\n",
    "    - **gender**: Sexe de l'utilisateur\n",
    "    - **job**: Emploi de l'utilisateur\n",
    "    - **zip**: ZIP Code\n",
    "\n",
    "Attention aux espaces et à la casse des differents champs. \n",
    "\n",
    "### Librairies permises\n",
    "\n",
    "- numpy\n",
    "- pandas\n",
    "- seaborn\n",
    "- matplotlib\n",
    "- scipy\n",
    "\n",
    "\n",
    "### Rédaction et remise du rapport\n",
    "\n",
    "- Ce notebook constitue à la fois votre code et votre rapport. Il contient un squelette pour guider votre travail.\n",
    "\n",
    "- Complétez directement le notebook, vous êtes libres de créer des nouvelles cellules de code ou de texte.\n",
    "\n",
    "- <u>**IMPORTANT**</u> Remettez le ZIP contenant les données et le notebook sur Moodle avec le nom `MATRICULE1_MATRICULE2.ipynb` pour le notebook et `MATRICULE1_MATRICULE2.zip` pour le zip.\n",
    "\n",
    "\n",
    "### CRITÈRES\n",
    "\n",
    "- La démarche est valide et bien expliquée\n",
    "- Les réponses sont correctes et commentées\n",
    "- L'implémentation est performante et repose sur le calcul linéaire lorsqu'approprié\n",
    "- La présentation est soignée et bien rédigée\n",
    "\n",
    "\n",
    "### CODE D’HONNEUR\n",
    "\n",
    "- __Règle 1__:  Le plagiat de code est bien évidemment interdit. Toute utilisation de code doit être référencée adéquatement. Vous __ne pouvez pas__ soumettre un code écrit par quelqu’un d’autre.\n",
    "\n",
    "- __Règle 2__: Vous êtes libres de discuter des idées et des détails de mise en œuvre avec d'autres équipes. Cependant, vous ne pouvez en aucun cas consulter le code d'une autre équipe ou incorporer leur code dans votre TP.\n",
    "\n",
    "- __Règle 3__:  Vous ne pouvez pas partager votre code publiquement (par exemple, dans un dépôt GitHub public) tant que le cours n'est pas fini."
   ]
  },
  {
   "cell_type": "markdown",
   "metadata": {},
   "source": [
    "## Question 1"
   ]
  },
  {
   "cell_type": "markdown",
   "metadata": {},
   "source": [
    "### 1. Chargement des assets\n",
    "\n",
    "#### 1.1. Chargement des librairies"
   ]
  },
  {
   "cell_type": "code",
   "execution_count": 4,
   "metadata": {},
   "outputs": [],
   "source": [
    "import numpy as np\n",
    "import pandas as pd\n",
    "import seaborn as sns\n",
    "import pandas as pd\n",
    "import matplotlib.pyplot as plt\n",
    "import scipy as sp"
   ]
  },
  {
   "cell_type": "markdown",
   "metadata": {},
   "source": [
    "#### 1.2. Chargement des données\n",
    "\n",
    "Affichez tous les jeux de données"
   ]
  },
  {
   "cell_type": "code",
   "execution_count": 5,
   "metadata": {},
   "outputs": [],
   "source": [
    "# TODO  --------------------------------- Préparation des Données ------------------------\n",
    "## Chargement des votes\n",
    "votes = pd.read_csv(\"data/ratings.csv\")\n",
    "# items \n",
    "items = pd.read_csv(\"data/items.csv\")\n",
    "# users\n",
    "user = pd.read_csv(\"data/user.csv\")\n",
    "# End TODO"
   ]
  },
  {
   "cell_type": "code",
   "execution_count": null,
   "metadata": {},
   "outputs": [],
   "source": [
    "### TODO: Afficher les jeux de donnes\n",
    "votes.head()\n",
    "##End TODO"
   ]
  },
  {
   "cell_type": "code",
   "execution_count": null,
   "metadata": {},
   "outputs": [],
   "source": [
    "items.head()"
   ]
  },
  {
   "cell_type": "code",
   "execution_count": null,
   "metadata": {},
   "outputs": [],
   "source": [
    "user.head()"
   ]
  },
  {
   "cell_type": "markdown",
   "metadata": {},
   "source": [
    "### 1.3. Calcul de performances\n",
    "\n",
    "On désire calculer les performances prédictives de quelques approches qui donnent une base de référence: le vote aléatoire, le vote moyen, le vote moyen utilisateur, le vote moyen item et finalement, le vote attendu (moyenne du vote moyen utilisateur et item). Puis rapporter l'erreur quadratique moyenne et l'erreur absolue moyenne (1) sans validation croisée et (2) avec validation croisée de 5 replis. Et enfin, déterminer si la différence entre l'erreur quadratique moyenne obtenue par le vote moyen item et le vote moyen utilisateur est statistiquement significative par un test d'hypothèse et en affichant les résultats visuellement. Pour cela, on procède en plusieurs étapes.\n",
    "\n",
    "\n",
    "#### 1.3.1. Prétrairements\n",
    "L’objectif ici est de créer une matrice utilisateurs-items qui, à chaque utilisateur, associe les votes qu’il a attribués aux films."
   ]
  },
  {
   "cell_type": "code",
   "execution_count": null,
   "metadata": {},
   "outputs": [],
   "source": [
    "## Conversion du Pandas Datafram en Matrice Utilisateur Item : MUI\n",
    "MUI = votes.pivot(index=\"user.id\", columns=\"item.id\", values=\"rating\")\n",
    "MUI.head()"
   ]
  },
  {
   "cell_type": "code",
   "execution_count": 10,
   "metadata": {},
   "outputs": [],
   "source": [
    "## Convertir le DF à une matrice numpy\n",
    "MUI_numpy = MUI.to_numpy()\n",
    "MUI_numpy_flat = MUI_numpy.reshape(-1)\n"
   ]
  },
  {
   "cell_type": "markdown",
   "metadata": {},
   "source": [
    "### 1.3.2. Fonctions de calcul d'erreurs\n",
    "\n",
    "Afin de calculer l'erreur quadratique moyenne et l'erreur absolue moyenne vous devez utiliser les fonctions ci-dessous. Completez leurs codes."
   ]
  },
  {
   "cell_type": "code",
   "execution_count": 11,
   "metadata": {},
   "outputs": [],
   "source": [
    "def RMSE_mat(y_pred, y_true):\n",
    "    return np.sqrt(np.nanmean((y_pred - y_true) ** 2))"
   ]
  },
  {
   "cell_type": "code",
   "execution_count": 12,
   "metadata": {},
   "outputs": [],
   "source": [
    "def MAE_mat(y_pred, y_true):\n",
    "    return np.nanmean(np.abs(y_pred - y_true))"
   ]
  },
  {
   "cell_type": "markdown",
   "metadata": {},
   "source": [
    "#### 1.3.3. Calcul des performances sans validation croisée\n",
    "\n",
    "La validation croisée est une technique qui permet d'évaluer les performances d'un modèle/système sur de nouvelles données. Elle permet d'évaluer la capacité d'un modèle à généraliser la comprehension d’un problème. C’est-à-dire, à faire de bonnes prédictions sur des données qu’il n’a pas encore vues. Dans cet exercice, elle nous permet de savoir si l'approche employée permet de prédire correctement les votes attendues. Mais avant d'y arriver, dans cet exercice, afin de bien comprendre l'intérêt de cette technique, il est intéressant de commencer par une approche sans validation croisée (on utilise toutes les données).\n",
    "\n",
    "Le code ci-dessous permet de calculer les prédictions de votes sans validation croisée. Complétez-le et commentez les résultats."
   ]
  },
  {
   "cell_type": "code",
   "execution_count": 13,
   "metadata": {},
   "outputs": [],
   "source": [
    "# TODO\n",
    "## Vote aleatoire\n",
    "def vote_aleatoire():\n",
    "    return np.random.randint(6)\n",
    "\n",
    "## Vote moyen\n",
    "def vote_moyen(df):\n",
    "    return np.nanmean(df)\n",
    "\n",
    "## Vote moyen utilisateur\n",
    "def vote_moyen_utilisateurs(df):\n",
    "    return np.nanmean(df, axis=1)\n",
    "\n",
    "## Vote moyen item\n",
    "def vote_moyen_items(df):\n",
    "    return np.nanmean(df, axis=0)\n",
    "\n",
    "## Vote Moyen Attendu (Moyenne du vote moyen utilisateur et item)\n",
    "def vote_moyen_attendu(df):\n",
    "    return (vote_moyen_utilisateurs(df) + vote_moyen_items(df))/2\n"
   ]
  },
  {
   "cell_type": "markdown",
   "metadata": {},
   "source": [
    "#### 1.3.4. Calcul des performances avec validation croisée\n",
    "\n",
    "Les cellules ci-dessous contiennent le code pour faire la prediction de votes et le calcul des erreurs quadratiques moyennes et erreurs absolue moyenne. Completez le et commentez les resultats."
   ]
  },
  {
   "cell_type": "code",
   "execution_count": null,
   "metadata": {},
   "outputs": [],
   "source": [
    "## Création des indices pour les valeurs différentes de np.nan\n",
    "indices = np.arange(0, MUI_numpy.shape[0]*MUI_numpy.shape[1])\n",
    "indices_na = indices[~np.isnan(MUI_numpy_flat)]\n",
    "\n",
    "## Split Train Test des indices\n",
    "nbre_replis = 5\n",
    "np.random.shuffle(indices_na)\n",
    "\n",
    "idx_split = np.split(indices_na, nbre_replis)\n",
    "\n",
    "print(indices_na.shape)"
   ]
  },
  {
   "cell_type": "code",
   "execution_count": null,
   "metadata": {},
   "outputs": [],
   "source": [
    "## Je construis ma liste d'indice train et test\n",
    "# Pour faire une cross validation à 5 replis il suffit de remplacer 0 par i\n",
    "# et itérer de 0 à 4\n",
    "list_RMSE = []\n",
    "list_MAE = []\n",
    "\n",
    "for i in range(nbre_replis):\n",
    "\n",
    "    MUI_numpy_train_idx = np.concatenate(idx_split[:i] + idx_split[i+1:]) # Liste d'indices train\n",
    "    MUI_numpy_test_idx = idx_split[i] # Liste d'indices test\n",
    "\n",
    "    ## J'enlève les valeurs de test de la matrice d'entrainement, et vice versa\n",
    "    MUI_numpy_train = np.copy(MUI_numpy)\n",
    "    MUI_numpy_test = np.copy(MUI_numpy)\n",
    "    \n",
    "    row_train, col_train = zip(*[(idx//MUI_numpy.shape[1], idx%MUI_numpy.shape[1]) for idx in MUI_numpy_train_idx])\n",
    "    row_test, col_test = zip(*[(idx//MUI_numpy.shape[1], idx%MUI_numpy.shape[1]) for idx in MUI_numpy_test_idx])\n",
    "\n",
    "    \n",
    "    #  Je redonne la structure de matrice aux ensembles de test et d'entrainement\n",
    "    MUI_numpy_test[row_train, col_train] = np.nan\n",
    "    MUI_numpy_train[row_test, col_test] = np.nan\n",
    "\n",
    "\n",
    "    # On s'assure d'avoir les bonnes dimensions\n",
    "    #print(MUI_numpy_train[~np.isnan(MUI_numpy_train)].shape)\n",
    "    #print(MUI_numpy_test[~np.isnan(MUI_numpy_test)].shape)\n",
    "\n",
    "    # Documentation pour np.nanmean : https://numpy.org/doc/stable/reference/generated/numpy.nanmean.html\n",
    "        \n",
    "    # --------------------------------- Prédictions des Valeurs Test ---------------------------------\n",
    "    # Prédiction des votes aléatoires entre 1 et 5 avec une distribution uniforme d'entiers\n",
    "    votes_alea_pred      = np.full(MUI_numpy_test.shape, vote_aleatoire())\n",
    "\n",
    "    # Vote Moyen\n",
    "    # Prédiction des votes grâce à la moyenne des votes de la matrice d'entrainement\n",
    "    votes_moyenne_pred   = np.full(MUI_numpy_test.shape, vote_moyen(MUI_numpy_train))\n",
    "\n",
    "    # Vote Moyen Utilisateur\n",
    "    # Prédiction des votes grâce à la moyenne des votes par utilisateur de la matrice d'entrainement\n",
    "    votes_moyenne_U_pred = np.tile(vote_moyen_utilisateurs(MUI_numpy_train)[:, np.newaxis], (1, MUI_numpy_test.shape[1]))\n",
    "\n",
    "    # Vote Moyen Utilisateur\n",
    "    # Prédiction des votes grâce à la moyenne des votes par item de la matrice d'entrainement\n",
    "    votes_moyenne_I_pred = np.tile(vote_moyen_items(MUI_numpy_train), (MUI_numpy_test.shape[0], 1))\n",
    "\n",
    "    # Vote Moyen Attendu (Moyenne du vote moyen utilisateur et item)\n",
    "    moyenne_U_repeat = np.tile(vote_moyen_utilisateurs(MUI_numpy_train)[:, np.newaxis], (1, MUI_numpy_test.shape[1]))\n",
    "    moyenne_I_repeat = np.tile(vote_moyen_items(MUI_numpy_train), (MUI_numpy_test.shape[0], 1))\n",
    "\n",
    "    votes_moyenne_A_pred = (moyenne_U_repeat + moyenne_I_repeat)/2\n",
    "\n",
    "    # Calcul des RMSE\n",
    "    list_matrices = [votes_alea_pred, votes_moyenne_pred, votes_moyenne_U_pred, votes_moyenne_I_pred, votes_moyenne_A_pred]\n",
    "\n",
    "    list_RMSE.append(np.array([RMSE_mat(mat, MUI_numpy_test) for mat in list_matrices]))\n",
    "    list_MAE.append(np.array([MAE_mat(mat, MUI_numpy_test) for mat in list_matrices]))\n",
    "\n",
    "list_RMSE = np.array(list_RMSE)\n",
    "list_MAE = np.array(list_MAE)\n",
    "\n",
    "print(\"Résultats pour le vote aléatoire sur l'ensemble de test :\")\n",
    "print(\"RMSE: \", list_RMSE.mean(axis=0)[0])\n",
    "print(\"MAE: \", list_MAE.mean(axis=0)[0],'\\n')\n",
    "\n",
    "print(\"Résultats pour le vote moyen sur l'ensemble de test :\")\n",
    "print(\"RMSE: \", list_RMSE.mean(axis=0)[1])\n",
    "print(\"MAE: \", list_MAE.mean(axis=0)[1],'\\n')\n",
    "\n",
    "print(\"Résultats pour le vote moyen utilisateur sur l'ensemble de test :\")\n",
    "print(\"RMSE: \", list_RMSE.mean(axis=0)[2])\n",
    "print(\"MAE: \", list_MAE.mean(axis=0)[2],'\\n')\n",
    "\n",
    "print(\"Résultats pour le vote moyen item sur l'ensemble de test :\")\n",
    "print(\"RMSE: \", list_RMSE.mean(axis=0)[3])\n",
    "print(\"MAE: \", list_MAE.mean(axis=0)[3],'\\n')\n",
    "\n",
    "print(\"Résultats pour le vote moyen attendu sur l'ensemble de test :\")\n",
    "print(\"RMSE: \", list_RMSE.mean(axis=0)[4])\n",
    "print(\"MAE: \", list_MAE.mean(axis=0)[4],'\\n')"
   ]
  },
  {
   "cell_type": "markdown",
   "metadata": {},
   "source": [
    "### 1.4. Analysez des resultats\n",
    "\n",
    "On souhaite analyse et valider les resultats obtenus\n",
    "\n",
    "#### 1.4.1. Analyse comparatives des resultats\n",
    "\n",
    "Faites une analyse comparative des résultats  obtenus sans et avec la validation croisée. À quoi s'attendaient-t-on ? Qu'est-ce qu'on a obtenu? Pourquoi ?"
   ]
  },
  {
   "cell_type": "code",
   "execution_count": 16,
   "metadata": {},
   "outputs": [],
   "source": [
    "#TODO Analayse\n",
    "\n",
    "#End TODO"
   ]
  },
  {
   "cell_type": "markdown",
   "metadata": {},
   "source": [
    "#### 1.4.2. Test d'hypothèse\n",
    "On souhaites déterminer si la différence entre l'erreur quadratique moyenne obtenue par le vote moyen item et le vote moyen utilisateur est statistiquement significative. Faites un test d'hypothèse à cet fin."
   ]
  },
  {
   "cell_type": "code",
   "execution_count": 17,
   "metadata": {},
   "outputs": [],
   "source": [
    "# TODO\n",
    "## t-Test:\n",
    "\n",
    "# End TODO"
   ]
  },
  {
   "cell_type": "markdown",
   "metadata": {},
   "source": [
    "## Question 2 - Filtres Collaboratifs\n",
    "\n",
    "On désire calculer les erreurs des prédictions des approches de filtres collaboratifs item-item et utilisateur-utilisateur. Pour cela, on se propose d'utiliser les fonctions ci-dessous qui permettent de:\n",
    " - Calculer la similarité cosinus entre deux vecteurs/matrices ;\n",
    " - Predire les votes par l'approche filtrage collaboratifs .\n",
    "\n",
    "Completez les!"
   ]
  },
  {
   "cell_type": "code",
   "execution_count": 104,
   "metadata": {},
   "outputs": [],
   "source": [
    "## Similarité Cosinus entre les vecteurs ligne de la matrice A\n",
    "#  et les vecteurs ligne de la matrice B\n",
    "def cosinus_matrices(A, B):\n",
    "    A = A.copy()\n",
    "    B = B.copy()\n",
    "\n",
    "    # Remplace les nan par 0, pour ne pas rajouter + de NAN après le produit matriciel\n",
    "    A = np.nan_to_num(A, nan=0.0)\n",
    "    B = np.nan_to_num(B, nan=0.0)\n",
    "\n",
    "    # Matrice colonne des normes de chacuns des vecteurs de A\n",
    "    col_norm_A = np.linalg.norm(A, axis=1, keepdims=True)\n",
    "\n",
    "    # Matrice ligne des normes de chacuns des vecteurs de B\n",
    "    col_norm_B = np.linalg.norm(B, axis=1, keepdims=True).T \n",
    "\n",
    "    dot_product = np.dot(A, B.T)\n",
    "    norm_product = col_norm_A * col_norm_B\n",
    "    cos_similarity = dot_product / norm_product\n",
    "    cos_similarity = np.nan_to_num(cos_similarity, nan=0.0)\n",
    "    cos_similarity[cos_similarity == 1] = 0\n",
    "\n",
    "    return cos_similarity"
   ]
  },
  {
   "cell_type": "code",
   "execution_count": 109,
   "metadata": {},
   "outputs": [],
   "source": [
    "def filtre_collaboratif(V, W):\n",
    "\n",
    "    # Crée une matrice booléenne de la même taille que V. Les éléments qui ne sont pas NaN dans V \n",
    "    # (c'est-à-dire les éléments pour lesquels une note existe) sont marqués par 1, et les NaN par 0. \n",
    "    # Cette matrice sera utilisée pour s'assurer que seules les notes existantes contribuent aux prédictions.\n",
    "    Bool_m = (~np.isnan(V))*1 \n",
    "    #print(Bool_m)\n",
    "\n",
    "    V = V.copy()\n",
    "    W = W.copy()\n",
    "    V_moy = vote_moyen_utilisateurs(V)\n",
    "\n",
    "    # Les valeurs NaN dans V et W sont remplacées par 0. Cela permet d'effectuer des opérations matricielles numpy sans erreur.\n",
    "    V = np.nan_to_num(V, nan=0.0)\n",
    "    W = np.nan_to_num(W, nan=0.0)\n",
    "\n",
    "    # Calcule la somme des similarités absolues pour chaque utilisateur, mais seulement pour les items qu'ils ont notés (grâce à Bool_m). \n",
    "    K = 1 / np.sum(np.abs(W), axis=0)\n",
    "    # print(np.sum(np.abs(W), axis=0))\n",
    "    # print(f\"K  : {K}\")\n",
    "\n",
    "    # Calcule les notes prédites. \n",
    "    #print(f\"V  : {V}\")\n",
    "    #print(f\"V_moy  : {V_moy}\")\n",
    "    V_res = V - V_moy[:, np.newaxis]\n",
    "    #print(f\"V_res  : {V_res}\")\n",
    "    n_rows, n_columns = V.shape\n",
    "\n",
    "    V_pred = V.copy()\n",
    "\n",
    "    for a in range(n_rows):\n",
    "        for j in range(n_columns):\n",
    "            # print(W[a].shape)\n",
    "            # print(V_res[:, j].shape)\n",
    "            V_pred[a, j] = V_moy[a] + K[a] * np.sum(W[a] * V_res[:, j])\n",
    "\n",
    "    return V_pred"
   ]
  },
  {
   "cell_type": "markdown",
   "metadata": {},
   "source": [
    "Maintenant, pour le calcul des differents erreur, procédez par étapes et rapportez, à chaque étape, l'erreur quadratique moyenne et l'erreur absolue moyenne à partir de la matrice de prédiction obtenue à l'aide de la matrice cosinus de similarité.\n",
    "\n",
    "M_pred = MUI x M_cos"
   ]
  },
  {
   "cell_type": "code",
   "execution_count": null,
   "metadata": {},
   "outputs": [],
   "source": [
    "test_mat = np.array([[5, 1, np.nan, 2], [4,1,1,3], [4,2,1,2], [1,4,3,2]])\n",
    "test_cos = cosinus_matrices(test_mat, test_mat)\n",
    "print(test_cos)\n",
    "test_pred = filtre_collaboratif(test_mat, test_cos)\n",
    "print(test_pred)"
   ]
  },
  {
   "cell_type": "markdown",
   "metadata": {},
   "source": [
    "## 2 -a) Prédiction avec tous les utilisateurs/items \n",
    "\n",
    "Prediction (sans voisins rapprochés) et sans correction pour biais utilisateur/item (sans normaliser en soustrayant la moyenne utilisateur/item)"
   ]
  },
  {
   "cell_type": "code",
   "execution_count": null,
   "metadata": {},
   "outputs": [],
   "source": [
    "# TODO\n",
    "## Approche Utilisateur\n",
    "# MUI_filled = np.nan_to_num(MUI_numpy, nan=0.0)\n",
    "M_cosU = cosinus_matrices(MUI_numpy, MUI_numpy)\n",
    "MUI_U_pred = filtre_collaboratif(MUI_numpy, M_cosU)\n",
    "print(MUI_numpy)\n",
    "print(MUI_U_pred)\n",
    "\n",
    "#End TODO"
   ]
  },
  {
   "cell_type": "code",
   "execution_count": null,
   "metadata": {},
   "outputs": [],
   "source": [
    "rmse_U = RMSE_mat(MUI_U_pred, MUI_numpy)\n",
    "mae_U = MAE_mat(MUI_U_pred, MUI_numpy)\n",
    "print(\"RMSE: \", rmse_U)\n",
    "print(\"MAE: \", mae_U,'\\n')"
   ]
  },
  {
   "cell_type": "code",
   "execution_count": null,
   "metadata": {},
   "outputs": [],
   "source": [
    "# TODO\n",
    "\n",
    "## Approche Item\n",
    "M_cosI = cosinus_matrices(MUI_numpy.T, MUI_numpy.T)\n",
    "MUI_I_pred = filtre_collaboratif(MUI_numpy.T, M_cosI).T\n",
    "\n",
    "#End TODO"
   ]
  },
  {
   "cell_type": "code",
   "execution_count": null,
   "metadata": {},
   "outputs": [],
   "source": [
    "rmse_I = RMSE_mat(MUI_I_pred, MUI_numpy)\n",
    "mae_I = MAE_mat(MUI_I_pred, MUI_numpy)\n",
    "print(\"RMSE: \", rmse_I)\n",
    "print(\"MAE: \", mae_I,'\\n')"
   ]
  },
  {
   "cell_type": "markdown",
   "metadata": {},
   "source": [
    "## 2 -b) Correction pour biais utilisateur/item. \n",
    "\n",
    "Vous pouvez prendre l'ensemble des les valeurs observées dans le calcul des moyennes items et utilisateurs (des précisions sur ce point seront données en classe — voir aussi le bonus)\n",
    "\n",
    "\n",
    "> Ici le biais utilisé est le Vote moyen.  \n",
    "Attention (Moyenne du vote moyen utilisateur et item)"
   ]
  },
  {
   "cell_type": "code",
   "execution_count": null,
   "metadata": {},
   "outputs": [],
   "source": [
    "#TODO\n",
    "\n",
    "## Calcul de la moyenne attendue\n",
    "votes_moyenne_U_pred = vote_moyen_utilisateurs(MUI_numpy)\n",
    "#print(votes_moyenne_U_pred)\n",
    "\n",
    "# Vote Moyen Utilisateur\n",
    "votes_moyenne_I_pred = vote_moyen_items(MUI_numpy)\n",
    "\n",
    "# # Vote Moyen Attendu (Moyenne du vote moyen utilisateur et item)\n",
    "moyenne_U_repeat = np.tile(vote_moyen_utilisateurs(MUI_numpy)[:, np.newaxis], (1, MUI_numpy.shape[1]))\n",
    "moyenne_I_repeat = np.tile(vote_moyen_items(MUI_numpy), (MUI_numpy.shape[0], 1))\n",
    "\n",
    "# # Notre Baseline\n",
    "R_moy = (moyenne_U_repeat + moyenne_I_repeat) / 2\n",
    "\n",
    "#print(R_moy)\n",
    "rmse = RMSE_mat(R_moy, MUI_numpy)\n",
    "mae = MAE_mat(R_moy, MUI_numpy)\n",
    "print(\"RMSE: \", rmse)\n",
    "print(\"MAE: \", mae,'\\n')\n",
    "\n",
    "#End TODO"
   ]
  },
  {
   "cell_type": "markdown",
   "metadata": {},
   "source": [
    "NB : Il est possible d'utiliser la matrice de vote moyen utilisateur ou item au lieu d'utiliser le vote attendu. Néanmoins le vote attendu donne de meilleurs résultats."
   ]
  },
  {
   "cell_type": "code",
   "execution_count": null,
   "metadata": {},
   "outputs": [],
   "source": [
    "#TODO : Approche Utilisateur\n",
    "## Calculer la matrice de vote Item-Item sans biais\n",
    "\n",
    "\n",
    "MUI_WB_U_U = MUI_numpy - moyenne_U_repeat\n",
    "\n",
    "#Code\n",
    "cos_U_WB = cosinus_matrices(MUI_WB_U_U, MUI_WB_U_U )\n",
    "M_pred_U_WB = filtre_collaboratif(MUI_WB_U_U, cos_U_WB)\n",
    "\n",
    "M_final = M_pred_U_WB + moyenne_U_repeat\n",
    "\n",
    "rmse_corrected = RMSE_mat(M_final, MUI_numpy)\n",
    "mae_corrected = MAE_mat(M_final, MUI_numpy)\n",
    "\n",
    "print(\"Avec correction des biais - RMSE:\", rmse_corrected)\n",
    "print(\"Avec correction des biais - MAE:\", mae_corrected)\n",
    "\n",
    "\n",
    "#End TODO"
   ]
  },
  {
   "cell_type": "code",
   "execution_count": null,
   "metadata": {},
   "outputs": [],
   "source": [
    "#TODO : Approche Item\n",
    "## Calculer la matrice de vote Item-Item sans biais\n",
    "\n",
    "\n",
    "MUI_WB_I_I = MUI_numpy - moyenne_I_repeat\n",
    "\n",
    "#Code\n",
    "cos_I_WB = cosinus_matrices(MUI_WB_I_I.T, MUI_WB_I_I.T )\n",
    "M_pred_I_WB = filtre_collaboratif(MUI_WB_I_I.T, cos_I_WB).T\n",
    "\n",
    "M_final = M_pred_I_WB + moyenne_I_repeat\n",
    "\n",
    "rmse_corrected = RMSE_mat(M_final, MUI_numpy)\n",
    "mae_corrected = MAE_mat(M_final, MUI_numpy)\n",
    "\n",
    "print(\"Avec correction des biais - RMSE:\", rmse_corrected)\n",
    "print(\"Avec correction des biais - MAE:\", mae_corrected)\n",
    "\n",
    "\n",
    "#End TODO"
   ]
  },
  {
   "cell_type": "markdown",
   "metadata": {},
   "source": [
    "## 2 -c) Ajout de voisins rapprochés"
   ]
  },
  {
   "cell_type": "markdown",
   "metadata": {},
   "source": [
    "Avec k=100 voisins rapprochés"
   ]
  },
  {
   "cell_type": "code",
   "execution_count": 142,
   "metadata": {},
   "outputs": [],
   "source": [
    "import numpy as np\n",
    "\n",
    "def filtre_collaboratif_k_voisins(V, W, k=10):\n",
    "    \"\"\"\n",
    "    Implémente le filtrage collaboratif basé sur l'approche utilisateur-utilisateur (U-U)\n",
    "    en utilisant uniquement les k plus proches voisins pour la prédiction.\n",
    "    \n",
    "    Args:\n",
    "        V (numpy.ndarray): Matrice des votes (utilisateurs x items)\n",
    "        W (numpy.ndarray): Matrice de similarité utilisateur-utilisateur\n",
    "        k (int): Nombre de voisins à prendre en compte\n",
    "\n",
    "    Returns:\n",
    "        numpy.ndarray: Matrice des votes prédits\n",
    "    \"\"\"\n",
    "    \n",
    "    # Crée une matrice booléenne indiquant les votes existants\n",
    "    Bool_m = (~np.isnan(V)) * 1 \n",
    "\n",
    "    V = V.copy()\n",
    "    W = W.copy()\n",
    "    \n",
    "    # Calcule la moyenne des votes par utilisateur\n",
    "    V_moy = vote_moyen_utilisateurs(V)  # moyenne par utilisateur (lignes)\n",
    "    \n",
    "    # Remplace les NaN par 0 pour éviter les erreurs dans les calculs matriciels\n",
    "    V = np.nan_to_num(V, nan=0.0)\n",
    "    W = np.nan_to_num(W, nan=0.0)\n",
    "\n",
    "    # Nombre d'utilisateurs et d'items\n",
    "    n_rows, n_columns = V.shape\n",
    "\n",
    "    # Initialisation de la matrice des prédictions\n",
    "    V_pred = V.copy()\n",
    "\n",
    "    # Parcours des utilisateurs pour calculer leurs prédictions\n",
    "    for a in range(n_rows):\n",
    "        # Indices des k plus proches voisins (triés par similarité décroissante)\n",
    "        voisins_k = np.argsort(-np.abs(W[a]))[1:k+1]  # [1:k+1] pour exclure a lui-même\n",
    "\n",
    "        # Normalisation : somme des similarités absolues des voisins k\n",
    "        K_a = 1 / np.sum(np.abs(W[a, voisins_k]) + 1e-8)  # Évite division par zéro\n",
    "        \n",
    "        for j in range(n_columns):\n",
    "            # Prédiction basée uniquement sur les k voisins\n",
    "            V_pred[a, j] = V_moy[a] + K_a * np.sum(W[a, voisins_k] * (V[voisins_k, j] - V_moy[voisins_k]))\n",
    "\n",
    "    return V_pred\n"
   ]
  },
  {
   "cell_type": "code",
   "execution_count": null,
   "metadata": {},
   "outputs": [
    {
     "name": "stdout",
     "output_type": "stream",
     "text": [
      "Approche Utilisateur (k=10) :\n",
      "RMSE: 0.8888093500340088\n",
      "MAE: 0.6988697974034259\n",
      "Approche Utilisateur (k=20) :\n",
      "RMSE: 0.8916017740261649\n",
      "MAE: 0.7012879698113621\n",
      "Approche Utilisateur (k=30) :\n",
      "RMSE: 0.8961159543878365\n",
      "MAE: 0.7049645584518293\n",
      "Approche Utilisateur (k=40) :\n",
      "RMSE: 0.9002987593996223\n",
      "MAE: 0.7086344139698807\n",
      "Approche Utilisateur (k=50) :\n",
      "RMSE: 0.9040846043968973\n",
      "MAE: 0.711763539395415\n",
      "Approche Utilisateur (k=60) :\n",
      "RMSE: 0.9074289376237801\n",
      "MAE: 0.71474180301789\n"
     ]
    }
   ],
   "source": [
    "## Approche Utilisateur\n",
    "rmse_UU_values = []\n",
    "mae_UU_values = []\n",
    "k_values = range(10, 101, 10)\n",
    "\n",
    "M_cos_WB_UU = cosinus_matrices(MUI_WB_U_U, MUI_WB_U_U)\n",
    "for n_voisins in k_values:\n",
    "    M_pred_k_UU = filtre_collaboratif_k_voisins(MUI_WB_U_U, M_cos_WB_UU, n_voisins)\n",
    "    M_final_k_UU = M_pred_k_UU + moyenne_U_repeat\n",
    "\n",
    "    rmse_UU = RMSE_mat(M_final_k_UU, MUI_numpy)\n",
    "    mae_UU = MAE_mat(M_final_k_UU, MUI_numpy)\n",
    "\n",
    "    rmse_UU_values.append(rmse_UU)\n",
    "    mae_UU_values.append(mae_UU)\n",
    "\n",
    "    print(f\"Approche Utilisateur (k={n_voisins}) :\\nRMSE: {rmse_UU}\\nMAE: {mae_UU}\")\n"
   ]
  },
  {
   "cell_type": "code",
   "execution_count": null,
   "metadata": {},
   "outputs": [],
   "source": [
    "# RMSE pour U-U\n",
    "plt.subplot(1, 2, 1)\n",
    "plt.plot(k_values, rmse_UU_values, label='RMSE', marker='o', color='b')\n",
    "plt.plot(k_values, mae_UU_values, label='MAE', marker='o', color='r')\n",
    "plt.xlabel('Nombre de voisins k')\n",
    "plt.ylabel('RMSE/MAE')\n",
    "plt.title('U-U')\n",
    "plt.legend()"
   ]
  },
  {
   "cell_type": "code",
   "execution_count": null,
   "metadata": {},
   "outputs": [],
   "source": [
    "## Approche Item\n",
    "rmse_II_values = []\n",
    "mae_II_values = []\n",
    "k_values = range(10, 101, 10)\n",
    "\n",
    "M_cos_WB_II = cosinus_matrices(MUI_WB_I_I.T, MUI_WB_I_I.T)\n",
    "for n_voisins in k_values:\n",
    "    M_pred_k_II = filtre_collaboratif_k_voisins(MUI_WB_I_I.T, M_cos_WB_II, n_voisins).T\n",
    "    M_final_k_II = M_pred_k_II + moyenne_I_repeat\n",
    "\n",
    "    rmse_II = RMSE_mat(M_final_k_II, MUI_numpy)\n",
    "    mae_II = MAE_mat(M_final_k_II, MUI_numpy)\n",
    "\n",
    "    rmse_II_values.append(rmse_II)\n",
    "    mae_II_values.append(mae_II)\n",
    "\n",
    "    print(f\"Approche Utilisateur (k={n_voisins}) :\\nRMSE: {rmse_II}\\nMAE: {mae_II}\")"
   ]
  },
  {
   "cell_type": "code",
   "execution_count": null,
   "metadata": {},
   "outputs": [],
   "source": [
    "# RMSE pour I-I\n",
    "plt.subplot(1, 2, 1)\n",
    "plt.plot(k_values, rmse_UU_values, label='RMSE', marker='o', color='b')\n",
    "plt.plot(k_values, mae_UU_values, label='MAE', marker='o', color='r')\n",
    "plt.xlabel('Nombre de voisins k')\n",
    "plt.ylabel('RMSE/MAE')\n",
    "plt.title('I-I')\n",
    "plt.legend()"
   ]
  }
 ],
 "metadata": {
  "kernelspec": {
   "display_name": "base",
   "language": "python",
   "name": "python3"
  },
  "language_info": {
   "codemirror_mode": {
    "name": "ipython",
    "version": 3
   },
   "file_extension": ".py",
   "mimetype": "text/x-python",
   "name": "python",
   "nbconvert_exporter": "python",
   "pygments_lexer": "ipython3",
   "version": "3.12.8"
  }
 },
 "nbformat": 4,
 "nbformat_minor": 2
}
